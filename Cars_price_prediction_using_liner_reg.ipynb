{
 "cells": [
  {
   "cell_type": "code",
   "execution_count": 53,
   "id": "98271445",
   "metadata": {},
   "outputs": [],
   "source": [
    "import pandas as pd\n",
    "import numpy as np\n",
    "import matplotlib.pyplot as plt\n",
    "import seaborn as sns\n",
    "\n",
    "from sklearn.model_selection import train_test_split\n",
    "from sklearn.impute import SimpleImputer\n",
    "from sklearn.preprocessing import FunctionTransformer , PowerTransformer\n",
    "from sklearn.preprocessing import StandardScaler, LabelEncoder,OneHotEncoder,OrdinalEncoder\n",
    "from sklearn.metrics import DistanceMetric\n",
    "from sklearn.compose import ColumnTransformer\n",
    "from sklearn.pipeline import Pipeline,make_pipeline\n",
    "from sklearn.linear_model import LinearRegression\n",
    "from sklearn.linear_model import Ridge\n",
    "from sklearn.linear_model import Lasso\n",
    "from sklearn.model_selection import GridSearchCV\n",
    "from sklearn.metrics import mean_squared_error\n",
    "from sklearn.metrics import r2_score\n",
    "from sklearn.metrics import mean_absolute_error\n",
    "import warnings\n",
    "warnings.filterwarnings('ignore')\n"
   ]
  },
  {
   "cell_type": "code",
   "execution_count": 2,
   "id": "b70f9290",
   "metadata": {},
   "outputs": [],
   "source": [
    "data=pd.read_csv(r\"C:\\Users\\LENOVO\\Downloads\\CarPrice_Assignment.csv\")"
   ]
  },
  {
   "cell_type": "code",
   "execution_count": 3,
   "id": "d4f4ec84",
   "metadata": {},
   "outputs": [],
   "source": [
    "pd.set_option(\"display.max_column\",100)"
   ]
  },
  {
   "cell_type": "code",
   "execution_count": 4,
   "id": "689195bc",
   "metadata": {},
   "outputs": [],
   "source": [
    "data1=data.copy()"
   ]
  },
  {
   "cell_type": "code",
   "execution_count": 5,
   "id": "1c62d728",
   "metadata": {},
   "outputs": [
    {
     "data": {
      "text/html": [
       "<div>\n",
       "<style scoped>\n",
       "    .dataframe tbody tr th:only-of-type {\n",
       "        vertical-align: middle;\n",
       "    }\n",
       "\n",
       "    .dataframe tbody tr th {\n",
       "        vertical-align: top;\n",
       "    }\n",
       "\n",
       "    .dataframe thead th {\n",
       "        text-align: right;\n",
       "    }\n",
       "</style>\n",
       "<table border=\"1\" class=\"dataframe\">\n",
       "  <thead>\n",
       "    <tr style=\"text-align: right;\">\n",
       "      <th></th>\n",
       "      <th>car_ID</th>\n",
       "      <th>symboling</th>\n",
       "      <th>CarName</th>\n",
       "      <th>fueltype</th>\n",
       "      <th>aspiration</th>\n",
       "      <th>doornumber</th>\n",
       "      <th>carbody</th>\n",
       "      <th>drivewheel</th>\n",
       "      <th>enginelocation</th>\n",
       "      <th>wheelbase</th>\n",
       "      <th>carlength</th>\n",
       "      <th>carwidth</th>\n",
       "      <th>carheight</th>\n",
       "      <th>curbweight</th>\n",
       "      <th>enginetype</th>\n",
       "      <th>cylindernumber</th>\n",
       "      <th>enginesize</th>\n",
       "      <th>fuelsystem</th>\n",
       "      <th>boreratio</th>\n",
       "      <th>stroke</th>\n",
       "      <th>compressionratio</th>\n",
       "      <th>horsepower</th>\n",
       "      <th>peakrpm</th>\n",
       "      <th>citympg</th>\n",
       "      <th>highwaympg</th>\n",
       "      <th>price</th>\n",
       "    </tr>\n",
       "  </thead>\n",
       "  <tbody>\n",
       "    <tr>\n",
       "      <th>0</th>\n",
       "      <td>1</td>\n",
       "      <td>3</td>\n",
       "      <td>alfa-romero giulia</td>\n",
       "      <td>gas</td>\n",
       "      <td>std</td>\n",
       "      <td>two</td>\n",
       "      <td>convertible</td>\n",
       "      <td>rwd</td>\n",
       "      <td>front</td>\n",
       "      <td>88.6</td>\n",
       "      <td>168.8</td>\n",
       "      <td>64.1</td>\n",
       "      <td>48.8</td>\n",
       "      <td>2548</td>\n",
       "      <td>dohc</td>\n",
       "      <td>four</td>\n",
       "      <td>130</td>\n",
       "      <td>mpfi</td>\n",
       "      <td>3.47</td>\n",
       "      <td>2.68</td>\n",
       "      <td>9.0</td>\n",
       "      <td>111</td>\n",
       "      <td>5000</td>\n",
       "      <td>21</td>\n",
       "      <td>27</td>\n",
       "      <td>13495.0</td>\n",
       "    </tr>\n",
       "    <tr>\n",
       "      <th>1</th>\n",
       "      <td>2</td>\n",
       "      <td>3</td>\n",
       "      <td>alfa-romero stelvio</td>\n",
       "      <td>gas</td>\n",
       "      <td>std</td>\n",
       "      <td>two</td>\n",
       "      <td>convertible</td>\n",
       "      <td>rwd</td>\n",
       "      <td>front</td>\n",
       "      <td>88.6</td>\n",
       "      <td>168.8</td>\n",
       "      <td>64.1</td>\n",
       "      <td>48.8</td>\n",
       "      <td>2548</td>\n",
       "      <td>dohc</td>\n",
       "      <td>four</td>\n",
       "      <td>130</td>\n",
       "      <td>mpfi</td>\n",
       "      <td>3.47</td>\n",
       "      <td>2.68</td>\n",
       "      <td>9.0</td>\n",
       "      <td>111</td>\n",
       "      <td>5000</td>\n",
       "      <td>21</td>\n",
       "      <td>27</td>\n",
       "      <td>16500.0</td>\n",
       "    </tr>\n",
       "    <tr>\n",
       "      <th>2</th>\n",
       "      <td>3</td>\n",
       "      <td>1</td>\n",
       "      <td>alfa-romero Quadrifoglio</td>\n",
       "      <td>gas</td>\n",
       "      <td>std</td>\n",
       "      <td>two</td>\n",
       "      <td>hatchback</td>\n",
       "      <td>rwd</td>\n",
       "      <td>front</td>\n",
       "      <td>94.5</td>\n",
       "      <td>171.2</td>\n",
       "      <td>65.5</td>\n",
       "      <td>52.4</td>\n",
       "      <td>2823</td>\n",
       "      <td>ohcv</td>\n",
       "      <td>six</td>\n",
       "      <td>152</td>\n",
       "      <td>mpfi</td>\n",
       "      <td>2.68</td>\n",
       "      <td>3.47</td>\n",
       "      <td>9.0</td>\n",
       "      <td>154</td>\n",
       "      <td>5000</td>\n",
       "      <td>19</td>\n",
       "      <td>26</td>\n",
       "      <td>16500.0</td>\n",
       "    </tr>\n",
       "    <tr>\n",
       "      <th>3</th>\n",
       "      <td>4</td>\n",
       "      <td>2</td>\n",
       "      <td>audi 100 ls</td>\n",
       "      <td>gas</td>\n",
       "      <td>std</td>\n",
       "      <td>four</td>\n",
       "      <td>sedan</td>\n",
       "      <td>fwd</td>\n",
       "      <td>front</td>\n",
       "      <td>99.8</td>\n",
       "      <td>176.6</td>\n",
       "      <td>66.2</td>\n",
       "      <td>54.3</td>\n",
       "      <td>2337</td>\n",
       "      <td>ohc</td>\n",
       "      <td>four</td>\n",
       "      <td>109</td>\n",
       "      <td>mpfi</td>\n",
       "      <td>3.19</td>\n",
       "      <td>3.40</td>\n",
       "      <td>10.0</td>\n",
       "      <td>102</td>\n",
       "      <td>5500</td>\n",
       "      <td>24</td>\n",
       "      <td>30</td>\n",
       "      <td>13950.0</td>\n",
       "    </tr>\n",
       "    <tr>\n",
       "      <th>4</th>\n",
       "      <td>5</td>\n",
       "      <td>2</td>\n",
       "      <td>audi 100ls</td>\n",
       "      <td>gas</td>\n",
       "      <td>std</td>\n",
       "      <td>four</td>\n",
       "      <td>sedan</td>\n",
       "      <td>4wd</td>\n",
       "      <td>front</td>\n",
       "      <td>99.4</td>\n",
       "      <td>176.6</td>\n",
       "      <td>66.4</td>\n",
       "      <td>54.3</td>\n",
       "      <td>2824</td>\n",
       "      <td>ohc</td>\n",
       "      <td>five</td>\n",
       "      <td>136</td>\n",
       "      <td>mpfi</td>\n",
       "      <td>3.19</td>\n",
       "      <td>3.40</td>\n",
       "      <td>8.0</td>\n",
       "      <td>115</td>\n",
       "      <td>5500</td>\n",
       "      <td>18</td>\n",
       "      <td>22</td>\n",
       "      <td>17450.0</td>\n",
       "    </tr>\n",
       "  </tbody>\n",
       "</table>\n",
       "</div>"
      ],
      "text/plain": [
       "   car_ID  symboling                   CarName fueltype aspiration doornumber  \\\n",
       "0       1          3        alfa-romero giulia      gas        std        two   \n",
       "1       2          3       alfa-romero stelvio      gas        std        two   \n",
       "2       3          1  alfa-romero Quadrifoglio      gas        std        two   \n",
       "3       4          2               audi 100 ls      gas        std       four   \n",
       "4       5          2                audi 100ls      gas        std       four   \n",
       "\n",
       "       carbody drivewheel enginelocation  wheelbase  carlength  carwidth  \\\n",
       "0  convertible        rwd          front       88.6      168.8      64.1   \n",
       "1  convertible        rwd          front       88.6      168.8      64.1   \n",
       "2    hatchback        rwd          front       94.5      171.2      65.5   \n",
       "3        sedan        fwd          front       99.8      176.6      66.2   \n",
       "4        sedan        4wd          front       99.4      176.6      66.4   \n",
       "\n",
       "   carheight  curbweight enginetype cylindernumber  enginesize fuelsystem  \\\n",
       "0       48.8        2548       dohc           four         130       mpfi   \n",
       "1       48.8        2548       dohc           four         130       mpfi   \n",
       "2       52.4        2823       ohcv            six         152       mpfi   \n",
       "3       54.3        2337        ohc           four         109       mpfi   \n",
       "4       54.3        2824        ohc           five         136       mpfi   \n",
       "\n",
       "   boreratio  stroke  compressionratio  horsepower  peakrpm  citympg  \\\n",
       "0       3.47    2.68               9.0         111     5000       21   \n",
       "1       3.47    2.68               9.0         111     5000       21   \n",
       "2       2.68    3.47               9.0         154     5000       19   \n",
       "3       3.19    3.40              10.0         102     5500       24   \n",
       "4       3.19    3.40               8.0         115     5500       18   \n",
       "\n",
       "   highwaympg    price  \n",
       "0          27  13495.0  \n",
       "1          27  16500.0  \n",
       "2          26  16500.0  \n",
       "3          30  13950.0  \n",
       "4          22  17450.0  "
      ]
     },
     "execution_count": 5,
     "metadata": {},
     "output_type": "execute_result"
    }
   ],
   "source": [
    "data1.head()"
   ]
  },
  {
   "cell_type": "code",
   "execution_count": 6,
   "id": "f3cb8988",
   "metadata": {},
   "outputs": [
    {
     "data": {
      "text/plain": [
       "(205, 26)"
      ]
     },
     "execution_count": 6,
     "metadata": {},
     "output_type": "execute_result"
    }
   ],
   "source": [
    "data1.shape"
   ]
  },
  {
   "cell_type": "code",
   "execution_count": 7,
   "id": "951e5d23",
   "metadata": {},
   "outputs": [
    {
     "name": "stdout",
     "output_type": "stream",
     "text": [
      "car_ID\n",
      "[  1   2   3   4   5   6   7   8   9  10  11  12  13  14  15  16  17  18\n",
      "  19  20  21  22  23  24  25  26  27  28  29  30  31  32  33  34  35  36\n",
      "  37  38  39  40  41  42  43  44  45  46  47  48  49  50  51  52  53  54\n",
      "  55  56  57  58  59  60  61  62  63  64  65  66  67  68  69  70  71  72\n",
      "  73  74  75  76  77  78  79  80  81  82  83  84  85  86  87  88  89  90\n",
      "  91  92  93  94  95  96  97  98  99 100 101 102 103 104 105 106 107 108\n",
      " 109 110 111 112 113 114 115 116 117 118 119 120 121 122 123 124 125 126\n",
      " 127 128 129 130 131 132 133 134 135 136 137 138 139 140 141 142 143 144\n",
      " 145 146 147 148 149 150 151 152 153 154 155 156 157 158 159 160 161 162\n",
      " 163 164 165 166 167 168 169 170 171 172 173 174 175 176 177 178 179 180\n",
      " 181 182 183 184 185 186 187 188 189 190 191 192 193 194 195 196 197 198\n",
      " 199 200 201 202 203 204 205]\n",
      "symboling\n",
      "[ 3  1  2  0 -1 -2]\n",
      "CarName\n",
      "['alfa-romero giulia' 'alfa-romero stelvio' 'alfa-romero Quadrifoglio'\n",
      " 'audi 100 ls' 'audi 100ls' 'audi fox' 'audi 5000' 'audi 4000'\n",
      " 'audi 5000s (diesel)' 'bmw 320i' 'bmw x1' 'bmw x3' 'bmw z4' 'bmw x4'\n",
      " 'bmw x5' 'chevrolet impala' 'chevrolet monte carlo' 'chevrolet vega 2300'\n",
      " 'dodge rampage' 'dodge challenger se' 'dodge d200' 'dodge monaco (sw)'\n",
      " 'dodge colt hardtop' 'dodge colt (sw)' 'dodge coronet custom'\n",
      " 'dodge dart custom' 'dodge coronet custom (sw)' 'honda civic'\n",
      " 'honda civic cvcc' 'honda accord cvcc' 'honda accord lx'\n",
      " 'honda civic 1500 gl' 'honda accord' 'honda civic 1300' 'honda prelude'\n",
      " 'honda civic (auto)' 'isuzu MU-X' 'isuzu D-Max ' 'isuzu D-Max V-Cross'\n",
      " 'jaguar xj' 'jaguar xf' 'jaguar xk' 'maxda rx3' 'maxda glc deluxe'\n",
      " 'mazda rx2 coupe' 'mazda rx-4' 'mazda glc deluxe' 'mazda 626' 'mazda glc'\n",
      " 'mazda rx-7 gs' 'mazda glc 4' 'mazda glc custom l' 'mazda glc custom'\n",
      " 'buick electra 225 custom' 'buick century luxus (sw)' 'buick century'\n",
      " 'buick skyhawk' 'buick opel isuzu deluxe' 'buick skylark'\n",
      " 'buick century special' 'buick regal sport coupe (turbo)'\n",
      " 'mercury cougar' 'mitsubishi mirage' 'mitsubishi lancer'\n",
      " 'mitsubishi outlander' 'mitsubishi g4' 'mitsubishi mirage g4'\n",
      " 'mitsubishi montero' 'mitsubishi pajero' 'Nissan versa' 'nissan gt-r'\n",
      " 'nissan rogue' 'nissan latio' 'nissan titan' 'nissan leaf' 'nissan juke'\n",
      " 'nissan note' 'nissan clipper' 'nissan nv200' 'nissan dayz' 'nissan fuga'\n",
      " 'nissan otti' 'nissan teana' 'nissan kicks' 'peugeot 504' 'peugeot 304'\n",
      " 'peugeot 504 (sw)' 'peugeot 604sl' 'peugeot 505s turbo diesel'\n",
      " 'plymouth fury iii' 'plymouth cricket' 'plymouth satellite custom (sw)'\n",
      " 'plymouth fury gran sedan' 'plymouth valiant' 'plymouth duster'\n",
      " 'porsche macan' 'porcshce panamera' 'porsche cayenne' 'porsche boxter'\n",
      " 'renault 12tl' 'renault 5 gtl' 'saab 99e' 'saab 99le' 'saab 99gle'\n",
      " 'subaru' 'subaru dl' 'subaru brz' 'subaru baja' 'subaru r1' 'subaru r2'\n",
      " 'subaru trezia' 'subaru tribeca' 'toyota corona mark ii' 'toyota corona'\n",
      " 'toyota corolla 1200' 'toyota corona hardtop' 'toyota corolla 1600 (sw)'\n",
      " 'toyota carina' 'toyota mark ii' 'toyota corolla'\n",
      " 'toyota corolla liftback' 'toyota celica gt liftback'\n",
      " 'toyota corolla tercel' 'toyota corona liftback' 'toyota starlet'\n",
      " 'toyota tercel' 'toyota cressida' 'toyota celica gt' 'toyouta tercel'\n",
      " 'vokswagen rabbit' 'volkswagen 1131 deluxe sedan' 'volkswagen model 111'\n",
      " 'volkswagen type 3' 'volkswagen 411 (sw)' 'volkswagen super beetle'\n",
      " 'volkswagen dasher' 'vw dasher' 'vw rabbit' 'volkswagen rabbit'\n",
      " 'volkswagen rabbit custom' 'volvo 145e (sw)' 'volvo 144ea' 'volvo 244dl'\n",
      " 'volvo 245' 'volvo 264gl' 'volvo diesel' 'volvo 246']\n",
      "fueltype\n",
      "['gas' 'diesel']\n",
      "aspiration\n",
      "['std' 'turbo']\n",
      "doornumber\n",
      "['two' 'four']\n",
      "carbody\n",
      "['convertible' 'hatchback' 'sedan' 'wagon' 'hardtop']\n",
      "drivewheel\n",
      "['rwd' 'fwd' '4wd']\n",
      "enginelocation\n",
      "['front' 'rear']\n",
      "wheelbase\n",
      "[ 88.6  94.5  99.8  99.4 105.8  99.5 101.2 103.5 110.   88.4  93.7 103.3\n",
      "  95.9  86.6  96.5  94.3  96.  113.  102.   93.1  95.3  98.8 104.9 106.7\n",
      " 115.6  96.6 120.9 112.  102.7  93.   96.3  95.1  97.2 100.4  91.3  99.2\n",
      " 107.9 114.2 108.   89.5  98.4  96.1  99.1  93.3  97.   96.9  95.7 102.4\n",
      " 102.9 104.5  97.3 104.3 109.1]\n",
      "carlength\n",
      "[168.8 171.2 176.6 177.3 192.7 178.2 176.8 189.  193.8 197.  141.1 155.9\n",
      " 158.8 157.3 174.6 173.2 144.6 150.  163.4 157.1 167.5 175.4 169.1 170.7\n",
      " 172.6 199.6 191.7 159.1 166.8 169.  177.8 175.  190.9 187.5 202.6 180.3\n",
      " 208.1 199.2 178.4 173.  172.4 165.3 170.2 165.6 162.4 173.4 181.7 184.6\n",
      " 178.5 186.7 198.9 167.3 168.9 175.7 181.5 186.6 156.9 157.9 172.  173.5\n",
      " 173.6 158.7 169.7 166.3 168.7 176.2 175.6 183.5 187.8 171.7 159.3 165.7\n",
      " 180.2 183.1 188.8]\n",
      "carwidth\n",
      "[64.1 65.5 66.2 66.4 66.3 71.4 67.9 64.8 66.9 70.9 60.3 63.6 63.8 64.6\n",
      " 63.9 64.  65.2 62.5 66.  61.8 69.6 70.6 64.2 65.7 66.5 66.1 70.3 71.7\n",
      " 70.5 72.  68.  64.4 65.4 68.4 68.3 65.  72.3 66.6 63.4 65.6 67.7 67.2\n",
      " 68.9 68.8]\n",
      "carheight\n",
      "[48.8 52.4 54.3 53.1 55.7 55.9 52.  53.7 56.3 53.2 50.8 50.6 59.8 50.2\n",
      " 52.6 54.5 58.3 53.3 54.1 51.  53.5 51.4 52.8 47.8 49.6 55.5 54.4 56.5\n",
      " 58.7 54.9 56.7 55.4 54.8 49.4 51.6 54.7 55.1 56.1 49.7 56.  50.5 55.2\n",
      " 52.5 53.  59.1 53.9 55.6 56.2 57.5]\n",
      "curbweight\n",
      "[2548 2823 2337 2824 2507 2844 2954 3086 3053 2395 2710 2765 3055 3230\n",
      " 3380 3505 1488 1874 1909 1876 2128 1967 1989 2191 2535 2811 1713 1819\n",
      " 1837 1940 1956 2010 2024 2236 2289 2304 2372 2465 2293 2734 4066 3950\n",
      " 1890 1900 1905 1945 1950 2380 2385 2500 2410 2443 2425 2670 2700 3515\n",
      " 3750 3495 3770 3740 3685 3900 3715 2910 1918 1944 2004 2145 2370 2328\n",
      " 2833 2921 2926 2365 2405 2403 1889 2017 1938 1951 2028 1971 2037 2008\n",
      " 2324 2302 3095 3296 3060 3071 3139 3020 3197 3430 3075 3252 3285 3485\n",
      " 3130 2818 2778 2756 2800 3366 2579 2460 2658 2695 2707 2758 2808 2847\n",
      " 2050 2120 2240 2190 2340 2510 2290 2455 2420 2650 1985 2040 2015 2280\n",
      " 3110 2081 2109 2275 2094 2122 2140 2169 2204 2265 2300 2540 2536 2551\n",
      " 2679 2714 2975 2326 2480 2414 2458 2976 3016 3131 3151 2261 2209 2264\n",
      " 2212 2319 2254 2221 2661 2563 2912 3034 2935 3042 3045 3157 2952 3049\n",
      " 3012 3217 3062]\n",
      "enginetype\n",
      "['dohc' 'ohcv' 'ohc' 'l' 'rotor' 'ohcf' 'dohcv']\n",
      "cylindernumber\n",
      "['four' 'six' 'five' 'three' 'twelve' 'two' 'eight']\n",
      "enginesize\n",
      "[130 152 109 136 131 108 164 209  61  90  98 122 156  92  79 110 111 119\n",
      " 258 326  91  70  80 140 134 183 234 308 304  97 103 120 181 151 194 203\n",
      " 132 121 146 171 161 141 173 145]\n",
      "fuelsystem\n",
      "['mpfi' '2bbl' 'mfi' '1bbl' 'spfi' '4bbl' 'idi' 'spdi']\n",
      "boreratio\n",
      "[3.47 2.68 3.19 3.13 3.5  3.31 3.62 2.91 3.03 2.97 3.34 3.6  2.92 3.15\n",
      " 3.43 3.63 3.54 3.08 3.33 3.39 3.76 3.58 3.46 3.8  3.78 3.17 3.35 3.59\n",
      " 2.99 3.7  3.61 3.94 3.74 2.54 3.05 3.27 3.24 3.01]\n",
      "stroke\n",
      "[2.68  3.47  3.4   2.8   3.19  3.39  3.03  3.11  3.23  3.46  3.9   3.41\n",
      " 3.07  3.58  4.17  2.76  3.15  3.255 3.16  3.64  3.1   3.35  3.12  3.86\n",
      " 3.29  3.27  3.52  2.19  3.21  2.9   2.07  2.36  2.64  3.08  3.5   3.54\n",
      " 2.87 ]\n",
      "compressionratio\n",
      "[ 9.   10.    8.    8.5   8.3   7.    8.8   9.5   9.6   9.41  9.4   7.6\n",
      "  9.2  10.1   9.1   8.1  11.5   8.6  22.7  22.   21.5   7.5  21.9   7.8\n",
      "  8.4  21.    8.7   9.31  9.3   7.7  22.5  23.  ]\n",
      "horsepower\n",
      "[111 154 102 115 110 140 160 101 121 182  48  70  68  88 145  58  76  60\n",
      "  86 100  78  90 176 262 135  84  64 120  72 123 155 184 175 116  69  55\n",
      "  97 152 200  95 142 143 207 288  73  82  94  62  56 112  92 161 156  52\n",
      "  85 114 162 134 106]\n",
      "peakrpm\n",
      "[5000 5500 5800 4250 5400 5100 4800 6000 4750 4650 4200 4350 4500 5200\n",
      " 4150 5600 5900 5750 5250 4900 4400 6600 5300]\n",
      "citympg\n",
      "[21 19 24 18 17 16 23 20 15 47 38 37 31 49 30 27 25 13 26 36 22 14 45 28\n",
      " 32 35 34 29 33]\n",
      "highwaympg\n",
      "[27 26 30 22 25 20 29 28 53 43 41 38 24 54 42 34 33 31 19 17 23 32 39 18\n",
      " 16 37 50 36 47 46]\n",
      "price\n",
      "[13495.    16500.    13950.    17450.    15250.    17710.    18920.\n",
      " 23875.    17859.167 16430.    16925.    20970.    21105.    24565.\n",
      " 30760.    41315.    36880.     5151.     6295.     6575.     5572.\n",
      "  6377.     7957.     6229.     6692.     7609.     8558.     8921.\n",
      " 12964.     6479.     6855.     5399.     6529.     7129.     7295.\n",
      "  7895.     9095.     8845.    10295.    12945.    10345.     6785.\n",
      "  8916.5   11048.    32250.    35550.    36000.     5195.     6095.\n",
      "  6795.     6695.     7395.    10945.    11845.    13645.    15645.\n",
      "  8495.    10595.    10245.    10795.    11245.    18280.    18344.\n",
      " 25552.    28248.    28176.    31600.    34184.    35056.    40960.\n",
      " 45400.    16503.     5389.     6189.     6669.     7689.     9959.\n",
      "  8499.    12629.    14869.    14489.     6989.     8189.     9279.\n",
      "  5499.     7099.     6649.     6849.     7349.     7299.     7799.\n",
      "  7499.     7999.     8249.     8949.     9549.    13499.    14399.\n",
      " 17199.    19699.    18399.    11900.    13200.    12440.    13860.\n",
      " 15580.    16900.    16695.    17075.    16630.    17950.    18150.\n",
      " 12764.    22018.    32528.    34028.    37028.    31400.5    9295.\n",
      "  9895.    11850.    12170.    15040.    15510.    18620.     5118.\n",
      "  7053.     7603.     7126.     7775.     9960.     9233.    11259.\n",
      "  7463.    10198.     8013.    11694.     5348.     6338.     6488.\n",
      "  6918.     7898.     8778.     6938.     7198.     7788.     7738.\n",
      "  8358.     9258.     8058.     8238.     9298.     9538.     8449.\n",
      "  9639.     9989.    11199.    11549.    17669.     8948.    10698.\n",
      "  9988.    10898.    11248.    16558.    15998.    15690.    15750.\n",
      "  7975.     7995.     8195.     9495.     9995.    11595.     9980.\n",
      " 13295.    13845.    12290.    12940.    13415.    15985.    16515.\n",
      " 18420.    18950.    16845.    19045.    21485.    22470.    22625.   ]\n"
     ]
    }
   ],
   "source": [
    "for col in data1.columns:\n",
    "    print(col)\n",
    "    print(data1[col].unique())"
   ]
  },
  {
   "cell_type": "code",
   "execution_count": 8,
   "id": "da5677dc",
   "metadata": {},
   "outputs": [
    {
     "name": "stdout",
     "output_type": "stream",
     "text": [
      "1      1\n",
      "142    1\n",
      "132    1\n",
      "133    1\n",
      "134    1\n",
      "      ..\n",
      "72     1\n",
      "73     1\n",
      "74     1\n",
      "75     1\n",
      "205    1\n",
      "Name: car_ID, Length: 205, dtype: int64\n",
      " 0    67\n",
      " 1    54\n",
      " 2    32\n",
      " 3    27\n",
      "-1    22\n",
      "-2     3\n",
      "Name: symboling, dtype: int64\n",
      "toyota corona           6\n",
      "toyota corolla          6\n",
      "peugeot 504             6\n",
      "subaru dl               4\n",
      "mitsubishi mirage g4    3\n",
      "                       ..\n",
      "mazda glc 4             1\n",
      "mazda rx2 coupe         1\n",
      "maxda glc deluxe        1\n",
      "maxda rx3               1\n",
      "volvo 246               1\n",
      "Name: CarName, Length: 147, dtype: int64\n",
      "gas       185\n",
      "diesel     20\n",
      "Name: fueltype, dtype: int64\n",
      "std      168\n",
      "turbo     37\n",
      "Name: aspiration, dtype: int64\n",
      "four    115\n",
      "two      90\n",
      "Name: doornumber, dtype: int64\n",
      "sedan          96\n",
      "hatchback      70\n",
      "wagon          25\n",
      "hardtop         8\n",
      "convertible     6\n",
      "Name: carbody, dtype: int64\n",
      "fwd    120\n",
      "rwd     76\n",
      "4wd      9\n",
      "Name: drivewheel, dtype: int64\n",
      "front    202\n",
      "rear       3\n",
      "Name: enginelocation, dtype: int64\n",
      "94.5     21\n",
      "93.7     20\n",
      "95.7     13\n",
      "96.5      8\n",
      "97.3      7\n",
      "98.4      7\n",
      "104.3     6\n",
      "100.4     6\n",
      "107.9     6\n",
      "98.8      6\n",
      "99.1      6\n",
      "96.3      6\n",
      "109.1     5\n",
      "93.1      5\n",
      "97.2      5\n",
      "95.9      5\n",
      "102.4     5\n",
      "97.0      4\n",
      "95.3      4\n",
      "114.2     4\n",
      "101.2     4\n",
      "110.0     3\n",
      "103.5     3\n",
      "89.5      3\n",
      "105.8     3\n",
      "96.1      2\n",
      "102.9     2\n",
      "104.5     2\n",
      "91.3      2\n",
      "96.9      2\n",
      "88.6      2\n",
      "113.0     2\n",
      "99.8      2\n",
      "115.6     2\n",
      "103.3     2\n",
      "86.6      2\n",
      "104.9     2\n",
      "93.3      1\n",
      "99.4      1\n",
      "99.5      1\n",
      "88.4      1\n",
      "94.3      1\n",
      "96.0      1\n",
      "95.1      1\n",
      "93.0      1\n",
      "102.0     1\n",
      "106.7     1\n",
      "108.0     1\n",
      "96.6      1\n",
      "99.2      1\n",
      "112.0     1\n",
      "102.7     1\n",
      "120.9     1\n",
      "Name: wheelbase, dtype: int64\n",
      "157.3    15\n",
      "188.8    11\n",
      "171.7     7\n",
      "186.7     7\n",
      "166.3     7\n",
      "         ..\n",
      "165.6     1\n",
      "187.5     1\n",
      "180.3     1\n",
      "208.1     1\n",
      "199.2     1\n",
      "Name: carlength, Length: 75, dtype: int64\n",
      "63.8    24\n",
      "66.5    23\n",
      "65.4    15\n",
      "63.6    11\n",
      "64.4    10\n",
      "68.4    10\n",
      "64.0     9\n",
      "65.5     8\n",
      "65.2     7\n",
      "64.2     6\n",
      "66.3     6\n",
      "65.6     6\n",
      "67.2     6\n",
      "67.9     5\n",
      "66.9     5\n",
      "65.7     4\n",
      "68.9     4\n",
      "64.8     4\n",
      "63.9     3\n",
      "70.3     3\n",
      "71.7     3\n",
      "71.4     3\n",
      "65.0     3\n",
      "68.3     2\n",
      "67.7     2\n",
      "64.1     2\n",
      "66.1     2\n",
      "69.6     2\n",
      "64.6     2\n",
      "72.0     1\n",
      "68.0     1\n",
      "70.5     1\n",
      "61.8     1\n",
      "66.0     1\n",
      "62.5     1\n",
      "70.6     1\n",
      "72.3     1\n",
      "66.6     1\n",
      "63.4     1\n",
      "60.3     1\n",
      "70.9     1\n",
      "66.4     1\n",
      "66.2     1\n",
      "68.8     1\n",
      "Name: carwidth, dtype: int64\n",
      "50.8    14\n",
      "52.0    12\n",
      "55.7    12\n",
      "54.1    10\n",
      "54.5    10\n",
      "55.5     9\n",
      "56.7     8\n",
      "54.3     8\n",
      "52.6     7\n",
      "56.1     7\n",
      "51.6     7\n",
      "53.0     6\n",
      "52.8     6\n",
      "54.9     6\n",
      "50.2     6\n",
      "53.7     5\n",
      "55.1     5\n",
      "50.6     5\n",
      "49.6     4\n",
      "58.7     4\n",
      "53.3     4\n",
      "52.5     3\n",
      "59.1     3\n",
      "56.2     3\n",
      "49.7     3\n",
      "57.5     3\n",
      "53.5     3\n",
      "54.4     2\n",
      "53.9     2\n",
      "56.3     2\n",
      "50.5     2\n",
      "59.8     2\n",
      "56.5     2\n",
      "54.7     2\n",
      "48.8     2\n",
      "49.4     2\n",
      "51.4     2\n",
      "51.0     1\n",
      "54.8     1\n",
      "55.4     1\n",
      "56.0     1\n",
      "55.2     1\n",
      "53.2     1\n",
      "47.8     1\n",
      "55.9     1\n",
      "52.4     1\n",
      "55.6     1\n",
      "53.1     1\n",
      "58.3     1\n",
      "Name: carheight, dtype: int64\n",
      "2385    4\n",
      "1918    3\n",
      "2275    3\n",
      "1989    3\n",
      "2410    2\n",
      "       ..\n",
      "2370    1\n",
      "2328    1\n",
      "2833    1\n",
      "2921    1\n",
      "3062    1\n",
      "Name: curbweight, Length: 171, dtype: int64\n",
      "ohc      148\n",
      "ohcf      15\n",
      "ohcv      13\n",
      "dohc      12\n",
      "l         12\n",
      "rotor      4\n",
      "dohcv      1\n",
      "Name: enginetype, dtype: int64\n",
      "four      159\n",
      "six        24\n",
      "five       11\n",
      "eight       5\n",
      "two         4\n",
      "three       1\n",
      "twelve      1\n",
      "Name: cylindernumber, dtype: int64\n",
      "122    15\n",
      "92     15\n",
      "97     14\n",
      "98     14\n",
      "108    13\n",
      "90     12\n",
      "110    12\n",
      "109     8\n",
      "120     7\n",
      "141     7\n",
      "152     6\n",
      "181     6\n",
      "146     6\n",
      "121     6\n",
      "156     5\n",
      "136     5\n",
      "91      5\n",
      "183     4\n",
      "130     4\n",
      "171     3\n",
      "70      3\n",
      "194     3\n",
      "209     3\n",
      "164     3\n",
      "258     2\n",
      "140     2\n",
      "134     2\n",
      "234     2\n",
      "132     2\n",
      "131     2\n",
      "173     1\n",
      "203     1\n",
      "161     1\n",
      "80      1\n",
      "151     1\n",
      "103     1\n",
      "304     1\n",
      "308     1\n",
      "326     1\n",
      "119     1\n",
      "111     1\n",
      "79      1\n",
      "61      1\n",
      "145     1\n",
      "Name: enginesize, dtype: int64\n",
      "mpfi    94\n",
      "2bbl    66\n",
      "idi     20\n",
      "1bbl    11\n",
      "spdi     9\n",
      "4bbl     3\n",
      "mfi      1\n",
      "spfi     1\n",
      "Name: fuelsystem, dtype: int64\n",
      "3.62    23\n",
      "3.19    20\n",
      "3.15    15\n",
      "3.03    12\n",
      "2.97    12\n",
      "3.46     9\n",
      "3.31     8\n",
      "3.43     8\n",
      "3.78     8\n",
      "3.27     7\n",
      "2.91     7\n",
      "3.58     6\n",
      "3.39     6\n",
      "3.33     6\n",
      "3.05     6\n",
      "3.54     6\n",
      "3.70     5\n",
      "3.01     5\n",
      "3.35     4\n",
      "3.17     3\n",
      "3.59     3\n",
      "3.74     3\n",
      "3.47     2\n",
      "3.94     2\n",
      "3.24     2\n",
      "3.63     2\n",
      "3.13     2\n",
      "3.80     2\n",
      "3.50     2\n",
      "2.54     1\n",
      "3.08     1\n",
      "3.61     1\n",
      "3.34     1\n",
      "2.68     1\n",
      "3.60     1\n",
      "2.92     1\n",
      "3.76     1\n",
      "2.99     1\n",
      "Name: boreratio, dtype: int64\n",
      "3.400    20\n",
      "3.230    14\n",
      "3.150    14\n",
      "3.030    14\n",
      "3.390    13\n",
      "2.640    11\n",
      "3.290     9\n",
      "3.350     9\n",
      "3.460     8\n",
      "3.110     6\n",
      "3.270     6\n",
      "3.410     6\n",
      "3.070     6\n",
      "3.580     6\n",
      "3.190     6\n",
      "3.500     6\n",
      "3.640     5\n",
      "3.520     5\n",
      "3.860     4\n",
      "3.540     4\n",
      "3.470     4\n",
      "3.255     4\n",
      "3.900     3\n",
      "2.900     3\n",
      "3.100     2\n",
      "4.170     2\n",
      "2.800     2\n",
      "2.190     2\n",
      "3.080     2\n",
      "2.680     2\n",
      "2.360     1\n",
      "3.160     1\n",
      "2.070     1\n",
      "3.210     1\n",
      "3.120     1\n",
      "2.760     1\n",
      "2.870     1\n",
      "Name: stroke, dtype: int64\n",
      "9.00     46\n",
      "9.40     26\n",
      "8.50     14\n",
      "9.50     13\n",
      "9.30     11\n",
      "8.70      9\n",
      "8.00      8\n",
      "9.20      8\n",
      "7.00      7\n",
      "8.60      5\n",
      "21.00     5\n",
      "8.40      5\n",
      "7.50      5\n",
      "23.00     5\n",
      "9.60      5\n",
      "21.50     4\n",
      "7.60      4\n",
      "10.00     3\n",
      "22.50     3\n",
      "8.30      3\n",
      "8.80      3\n",
      "7.70      2\n",
      "8.10      2\n",
      "9.10      1\n",
      "9.31      1\n",
      "7.80      1\n",
      "9.41      1\n",
      "21.90     1\n",
      "22.00     1\n",
      "22.70     1\n",
      "10.10     1\n",
      "11.50     1\n",
      "Name: compressionratio, dtype: int64\n",
      "68     19\n",
      "70     11\n",
      "69     10\n",
      "116     9\n",
      "110     8\n",
      "95      7\n",
      "114     6\n",
      "160     6\n",
      "101     6\n",
      "62      6\n",
      "88      6\n",
      "145     5\n",
      "76      5\n",
      "97      5\n",
      "84      5\n",
      "90      5\n",
      "82      5\n",
      "102     5\n",
      "92      4\n",
      "111     4\n",
      "123     4\n",
      "86      4\n",
      "207     3\n",
      "73      3\n",
      "182     3\n",
      "121     3\n",
      "85      3\n",
      "152     3\n",
      "176     2\n",
      "94      2\n",
      "56      2\n",
      "112     2\n",
      "161     2\n",
      "184     2\n",
      "155     2\n",
      "156     2\n",
      "52      2\n",
      "100     2\n",
      "162     2\n",
      "140     1\n",
      "115     1\n",
      "134     1\n",
      "78      1\n",
      "142     1\n",
      "288     1\n",
      "143     1\n",
      "48      1\n",
      "200     1\n",
      "58      1\n",
      "55      1\n",
      "60      1\n",
      "175     1\n",
      "154     1\n",
      "72      1\n",
      "120     1\n",
      "64      1\n",
      "135     1\n",
      "262     1\n",
      "106     1\n",
      "Name: horsepower, dtype: int64\n",
      "5500    37\n",
      "4800    36\n",
      "5000    27\n",
      "5200    23\n",
      "5400    13\n",
      "6000     9\n",
      "4500     7\n",
      "5800     7\n",
      "5250     7\n",
      "5100     5\n",
      "4150     5\n",
      "4200     5\n",
      "4350     4\n",
      "4750     4\n",
      "5900     3\n",
      "4250     3\n",
      "4400     3\n",
      "6600     2\n",
      "4650     1\n",
      "5600     1\n",
      "5750     1\n",
      "4900     1\n",
      "5300     1\n",
      "Name: peakrpm, dtype: int64\n",
      "31    28\n",
      "19    27\n",
      "24    22\n",
      "27    14\n",
      "17    13\n",
      "26    12\n",
      "23    12\n",
      "21     8\n",
      "25     8\n",
      "30     8\n",
      "38     7\n",
      "28     7\n",
      "16     6\n",
      "37     6\n",
      "22     4\n",
      "29     3\n",
      "15     3\n",
      "20     3\n",
      "18     3\n",
      "14     2\n",
      "34     1\n",
      "35     1\n",
      "32     1\n",
      "36     1\n",
      "45     1\n",
      "13     1\n",
      "49     1\n",
      "47     1\n",
      "33     1\n",
      "Name: citympg, dtype: int64\n",
      "25    19\n",
      "38    17\n",
      "24    17\n",
      "30    16\n",
      "32    16\n",
      "34    14\n",
      "37    13\n",
      "28    13\n",
      "29    10\n",
      "33     9\n",
      "22     8\n",
      "31     8\n",
      "23     7\n",
      "27     5\n",
      "43     4\n",
      "42     3\n",
      "26     3\n",
      "41     3\n",
      "19     2\n",
      "39     2\n",
      "18     2\n",
      "16     2\n",
      "20     2\n",
      "36     2\n",
      "47     2\n",
      "46     2\n",
      "54     1\n",
      "17     1\n",
      "53     1\n",
      "50     1\n",
      "Name: highwaympg, dtype: int64\n",
      "8921.0     2\n",
      "9279.0     2\n",
      "7898.0     2\n",
      "8916.5     2\n",
      "7775.0     2\n",
      "          ..\n",
      "45400.0    1\n",
      "16503.0    1\n",
      "5389.0     1\n",
      "6189.0     1\n",
      "22625.0    1\n",
      "Name: price, Length: 189, dtype: int64\n"
     ]
    }
   ],
   "source": [
    "for col in data1.columns:\n",
    "    print(data1[col].value_counts())"
   ]
  },
  {
   "cell_type": "code",
   "execution_count": 9,
   "id": "1a2261a7",
   "metadata": {},
   "outputs": [
    {
     "name": "stdout",
     "output_type": "stream",
     "text": [
      "<class 'pandas.core.frame.DataFrame'>\n",
      "RangeIndex: 205 entries, 0 to 204\n",
      "Data columns (total 26 columns):\n",
      " #   Column            Non-Null Count  Dtype  \n",
      "---  ------            --------------  -----  \n",
      " 0   car_ID            205 non-null    int64  \n",
      " 1   symboling         205 non-null    int64  \n",
      " 2   CarName           205 non-null    object \n",
      " 3   fueltype          205 non-null    object \n",
      " 4   aspiration        205 non-null    object \n",
      " 5   doornumber        205 non-null    object \n",
      " 6   carbody           205 non-null    object \n",
      " 7   drivewheel        205 non-null    object \n",
      " 8   enginelocation    205 non-null    object \n",
      " 9   wheelbase         205 non-null    float64\n",
      " 10  carlength         205 non-null    float64\n",
      " 11  carwidth          205 non-null    float64\n",
      " 12  carheight         205 non-null    float64\n",
      " 13  curbweight        205 non-null    int64  \n",
      " 14  enginetype        205 non-null    object \n",
      " 15  cylindernumber    205 non-null    object \n",
      " 16  enginesize        205 non-null    int64  \n",
      " 17  fuelsystem        205 non-null    object \n",
      " 18  boreratio         205 non-null    float64\n",
      " 19  stroke            205 non-null    float64\n",
      " 20  compressionratio  205 non-null    float64\n",
      " 21  horsepower        205 non-null    int64  \n",
      " 22  peakrpm           205 non-null    int64  \n",
      " 23  citympg           205 non-null    int64  \n",
      " 24  highwaympg        205 non-null    int64  \n",
      " 25  price             205 non-null    float64\n",
      "dtypes: float64(8), int64(8), object(10)\n",
      "memory usage: 41.8+ KB\n"
     ]
    }
   ],
   "source": [
    "data1.info()"
   ]
  },
  {
   "cell_type": "code",
   "execution_count": null,
   "id": "b39b5ad2",
   "metadata": {},
   "outputs": [],
   "source": []
  },
  {
   "cell_type": "code",
   "execution_count": 10,
   "id": "86564f64",
   "metadata": {},
   "outputs": [],
   "source": [
    "data1=data1.drop(columns=[\"car_ID\",\"CarName\"],axis=1)"
   ]
  },
  {
   "cell_type": "code",
   "execution_count": 11,
   "id": "b9bbddf7",
   "metadata": {},
   "outputs": [
    {
     "data": {
      "text/html": [
       "<div>\n",
       "<style scoped>\n",
       "    .dataframe tbody tr th:only-of-type {\n",
       "        vertical-align: middle;\n",
       "    }\n",
       "\n",
       "    .dataframe tbody tr th {\n",
       "        vertical-align: top;\n",
       "    }\n",
       "\n",
       "    .dataframe thead th {\n",
       "        text-align: right;\n",
       "    }\n",
       "</style>\n",
       "<table border=\"1\" class=\"dataframe\">\n",
       "  <thead>\n",
       "    <tr style=\"text-align: right;\">\n",
       "      <th></th>\n",
       "      <th>symboling</th>\n",
       "      <th>fueltype</th>\n",
       "      <th>aspiration</th>\n",
       "      <th>doornumber</th>\n",
       "      <th>carbody</th>\n",
       "      <th>drivewheel</th>\n",
       "      <th>enginelocation</th>\n",
       "      <th>wheelbase</th>\n",
       "      <th>carlength</th>\n",
       "      <th>carwidth</th>\n",
       "      <th>carheight</th>\n",
       "      <th>curbweight</th>\n",
       "      <th>enginetype</th>\n",
       "      <th>cylindernumber</th>\n",
       "      <th>enginesize</th>\n",
       "      <th>fuelsystem</th>\n",
       "      <th>boreratio</th>\n",
       "      <th>stroke</th>\n",
       "      <th>compressionratio</th>\n",
       "      <th>horsepower</th>\n",
       "      <th>peakrpm</th>\n",
       "      <th>citympg</th>\n",
       "      <th>highwaympg</th>\n",
       "      <th>price</th>\n",
       "    </tr>\n",
       "  </thead>\n",
       "  <tbody>\n",
       "    <tr>\n",
       "      <th>0</th>\n",
       "      <td>3</td>\n",
       "      <td>gas</td>\n",
       "      <td>std</td>\n",
       "      <td>two</td>\n",
       "      <td>convertible</td>\n",
       "      <td>rwd</td>\n",
       "      <td>front</td>\n",
       "      <td>88.6</td>\n",
       "      <td>168.8</td>\n",
       "      <td>64.1</td>\n",
       "      <td>48.8</td>\n",
       "      <td>2548</td>\n",
       "      <td>dohc</td>\n",
       "      <td>four</td>\n",
       "      <td>130</td>\n",
       "      <td>mpfi</td>\n",
       "      <td>3.47</td>\n",
       "      <td>2.68</td>\n",
       "      <td>9.0</td>\n",
       "      <td>111</td>\n",
       "      <td>5000</td>\n",
       "      <td>21</td>\n",
       "      <td>27</td>\n",
       "      <td>13495.0</td>\n",
       "    </tr>\n",
       "    <tr>\n",
       "      <th>1</th>\n",
       "      <td>3</td>\n",
       "      <td>gas</td>\n",
       "      <td>std</td>\n",
       "      <td>two</td>\n",
       "      <td>convertible</td>\n",
       "      <td>rwd</td>\n",
       "      <td>front</td>\n",
       "      <td>88.6</td>\n",
       "      <td>168.8</td>\n",
       "      <td>64.1</td>\n",
       "      <td>48.8</td>\n",
       "      <td>2548</td>\n",
       "      <td>dohc</td>\n",
       "      <td>four</td>\n",
       "      <td>130</td>\n",
       "      <td>mpfi</td>\n",
       "      <td>3.47</td>\n",
       "      <td>2.68</td>\n",
       "      <td>9.0</td>\n",
       "      <td>111</td>\n",
       "      <td>5000</td>\n",
       "      <td>21</td>\n",
       "      <td>27</td>\n",
       "      <td>16500.0</td>\n",
       "    </tr>\n",
       "    <tr>\n",
       "      <th>2</th>\n",
       "      <td>1</td>\n",
       "      <td>gas</td>\n",
       "      <td>std</td>\n",
       "      <td>two</td>\n",
       "      <td>hatchback</td>\n",
       "      <td>rwd</td>\n",
       "      <td>front</td>\n",
       "      <td>94.5</td>\n",
       "      <td>171.2</td>\n",
       "      <td>65.5</td>\n",
       "      <td>52.4</td>\n",
       "      <td>2823</td>\n",
       "      <td>ohcv</td>\n",
       "      <td>six</td>\n",
       "      <td>152</td>\n",
       "      <td>mpfi</td>\n",
       "      <td>2.68</td>\n",
       "      <td>3.47</td>\n",
       "      <td>9.0</td>\n",
       "      <td>154</td>\n",
       "      <td>5000</td>\n",
       "      <td>19</td>\n",
       "      <td>26</td>\n",
       "      <td>16500.0</td>\n",
       "    </tr>\n",
       "    <tr>\n",
       "      <th>3</th>\n",
       "      <td>2</td>\n",
       "      <td>gas</td>\n",
       "      <td>std</td>\n",
       "      <td>four</td>\n",
       "      <td>sedan</td>\n",
       "      <td>fwd</td>\n",
       "      <td>front</td>\n",
       "      <td>99.8</td>\n",
       "      <td>176.6</td>\n",
       "      <td>66.2</td>\n",
       "      <td>54.3</td>\n",
       "      <td>2337</td>\n",
       "      <td>ohc</td>\n",
       "      <td>four</td>\n",
       "      <td>109</td>\n",
       "      <td>mpfi</td>\n",
       "      <td>3.19</td>\n",
       "      <td>3.40</td>\n",
       "      <td>10.0</td>\n",
       "      <td>102</td>\n",
       "      <td>5500</td>\n",
       "      <td>24</td>\n",
       "      <td>30</td>\n",
       "      <td>13950.0</td>\n",
       "    </tr>\n",
       "    <tr>\n",
       "      <th>4</th>\n",
       "      <td>2</td>\n",
       "      <td>gas</td>\n",
       "      <td>std</td>\n",
       "      <td>four</td>\n",
       "      <td>sedan</td>\n",
       "      <td>4wd</td>\n",
       "      <td>front</td>\n",
       "      <td>99.4</td>\n",
       "      <td>176.6</td>\n",
       "      <td>66.4</td>\n",
       "      <td>54.3</td>\n",
       "      <td>2824</td>\n",
       "      <td>ohc</td>\n",
       "      <td>five</td>\n",
       "      <td>136</td>\n",
       "      <td>mpfi</td>\n",
       "      <td>3.19</td>\n",
       "      <td>3.40</td>\n",
       "      <td>8.0</td>\n",
       "      <td>115</td>\n",
       "      <td>5500</td>\n",
       "      <td>18</td>\n",
       "      <td>22</td>\n",
       "      <td>17450.0</td>\n",
       "    </tr>\n",
       "    <tr>\n",
       "      <th>...</th>\n",
       "      <td>...</td>\n",
       "      <td>...</td>\n",
       "      <td>...</td>\n",
       "      <td>...</td>\n",
       "      <td>...</td>\n",
       "      <td>...</td>\n",
       "      <td>...</td>\n",
       "      <td>...</td>\n",
       "      <td>...</td>\n",
       "      <td>...</td>\n",
       "      <td>...</td>\n",
       "      <td>...</td>\n",
       "      <td>...</td>\n",
       "      <td>...</td>\n",
       "      <td>...</td>\n",
       "      <td>...</td>\n",
       "      <td>...</td>\n",
       "      <td>...</td>\n",
       "      <td>...</td>\n",
       "      <td>...</td>\n",
       "      <td>...</td>\n",
       "      <td>...</td>\n",
       "      <td>...</td>\n",
       "      <td>...</td>\n",
       "    </tr>\n",
       "    <tr>\n",
       "      <th>200</th>\n",
       "      <td>-1</td>\n",
       "      <td>gas</td>\n",
       "      <td>std</td>\n",
       "      <td>four</td>\n",
       "      <td>sedan</td>\n",
       "      <td>rwd</td>\n",
       "      <td>front</td>\n",
       "      <td>109.1</td>\n",
       "      <td>188.8</td>\n",
       "      <td>68.9</td>\n",
       "      <td>55.5</td>\n",
       "      <td>2952</td>\n",
       "      <td>ohc</td>\n",
       "      <td>four</td>\n",
       "      <td>141</td>\n",
       "      <td>mpfi</td>\n",
       "      <td>3.78</td>\n",
       "      <td>3.15</td>\n",
       "      <td>9.5</td>\n",
       "      <td>114</td>\n",
       "      <td>5400</td>\n",
       "      <td>23</td>\n",
       "      <td>28</td>\n",
       "      <td>16845.0</td>\n",
       "    </tr>\n",
       "    <tr>\n",
       "      <th>201</th>\n",
       "      <td>-1</td>\n",
       "      <td>gas</td>\n",
       "      <td>turbo</td>\n",
       "      <td>four</td>\n",
       "      <td>sedan</td>\n",
       "      <td>rwd</td>\n",
       "      <td>front</td>\n",
       "      <td>109.1</td>\n",
       "      <td>188.8</td>\n",
       "      <td>68.8</td>\n",
       "      <td>55.5</td>\n",
       "      <td>3049</td>\n",
       "      <td>ohc</td>\n",
       "      <td>four</td>\n",
       "      <td>141</td>\n",
       "      <td>mpfi</td>\n",
       "      <td>3.78</td>\n",
       "      <td>3.15</td>\n",
       "      <td>8.7</td>\n",
       "      <td>160</td>\n",
       "      <td>5300</td>\n",
       "      <td>19</td>\n",
       "      <td>25</td>\n",
       "      <td>19045.0</td>\n",
       "    </tr>\n",
       "    <tr>\n",
       "      <th>202</th>\n",
       "      <td>-1</td>\n",
       "      <td>gas</td>\n",
       "      <td>std</td>\n",
       "      <td>four</td>\n",
       "      <td>sedan</td>\n",
       "      <td>rwd</td>\n",
       "      <td>front</td>\n",
       "      <td>109.1</td>\n",
       "      <td>188.8</td>\n",
       "      <td>68.9</td>\n",
       "      <td>55.5</td>\n",
       "      <td>3012</td>\n",
       "      <td>ohcv</td>\n",
       "      <td>six</td>\n",
       "      <td>173</td>\n",
       "      <td>mpfi</td>\n",
       "      <td>3.58</td>\n",
       "      <td>2.87</td>\n",
       "      <td>8.8</td>\n",
       "      <td>134</td>\n",
       "      <td>5500</td>\n",
       "      <td>18</td>\n",
       "      <td>23</td>\n",
       "      <td>21485.0</td>\n",
       "    </tr>\n",
       "    <tr>\n",
       "      <th>203</th>\n",
       "      <td>-1</td>\n",
       "      <td>diesel</td>\n",
       "      <td>turbo</td>\n",
       "      <td>four</td>\n",
       "      <td>sedan</td>\n",
       "      <td>rwd</td>\n",
       "      <td>front</td>\n",
       "      <td>109.1</td>\n",
       "      <td>188.8</td>\n",
       "      <td>68.9</td>\n",
       "      <td>55.5</td>\n",
       "      <td>3217</td>\n",
       "      <td>ohc</td>\n",
       "      <td>six</td>\n",
       "      <td>145</td>\n",
       "      <td>idi</td>\n",
       "      <td>3.01</td>\n",
       "      <td>3.40</td>\n",
       "      <td>23.0</td>\n",
       "      <td>106</td>\n",
       "      <td>4800</td>\n",
       "      <td>26</td>\n",
       "      <td>27</td>\n",
       "      <td>22470.0</td>\n",
       "    </tr>\n",
       "    <tr>\n",
       "      <th>204</th>\n",
       "      <td>-1</td>\n",
       "      <td>gas</td>\n",
       "      <td>turbo</td>\n",
       "      <td>four</td>\n",
       "      <td>sedan</td>\n",
       "      <td>rwd</td>\n",
       "      <td>front</td>\n",
       "      <td>109.1</td>\n",
       "      <td>188.8</td>\n",
       "      <td>68.9</td>\n",
       "      <td>55.5</td>\n",
       "      <td>3062</td>\n",
       "      <td>ohc</td>\n",
       "      <td>four</td>\n",
       "      <td>141</td>\n",
       "      <td>mpfi</td>\n",
       "      <td>3.78</td>\n",
       "      <td>3.15</td>\n",
       "      <td>9.5</td>\n",
       "      <td>114</td>\n",
       "      <td>5400</td>\n",
       "      <td>19</td>\n",
       "      <td>25</td>\n",
       "      <td>22625.0</td>\n",
       "    </tr>\n",
       "  </tbody>\n",
       "</table>\n",
       "<p>205 rows × 24 columns</p>\n",
       "</div>"
      ],
      "text/plain": [
       "     symboling fueltype aspiration doornumber      carbody drivewheel  \\\n",
       "0            3      gas        std        two  convertible        rwd   \n",
       "1            3      gas        std        two  convertible        rwd   \n",
       "2            1      gas        std        two    hatchback        rwd   \n",
       "3            2      gas        std       four        sedan        fwd   \n",
       "4            2      gas        std       four        sedan        4wd   \n",
       "..         ...      ...        ...        ...          ...        ...   \n",
       "200         -1      gas        std       four        sedan        rwd   \n",
       "201         -1      gas      turbo       four        sedan        rwd   \n",
       "202         -1      gas        std       four        sedan        rwd   \n",
       "203         -1   diesel      turbo       four        sedan        rwd   \n",
       "204         -1      gas      turbo       four        sedan        rwd   \n",
       "\n",
       "    enginelocation  wheelbase  carlength  carwidth  carheight  curbweight  \\\n",
       "0            front       88.6      168.8      64.1       48.8        2548   \n",
       "1            front       88.6      168.8      64.1       48.8        2548   \n",
       "2            front       94.5      171.2      65.5       52.4        2823   \n",
       "3            front       99.8      176.6      66.2       54.3        2337   \n",
       "4            front       99.4      176.6      66.4       54.3        2824   \n",
       "..             ...        ...        ...       ...        ...         ...   \n",
       "200          front      109.1      188.8      68.9       55.5        2952   \n",
       "201          front      109.1      188.8      68.8       55.5        3049   \n",
       "202          front      109.1      188.8      68.9       55.5        3012   \n",
       "203          front      109.1      188.8      68.9       55.5        3217   \n",
       "204          front      109.1      188.8      68.9       55.5        3062   \n",
       "\n",
       "    enginetype cylindernumber  enginesize fuelsystem  boreratio  stroke  \\\n",
       "0         dohc           four         130       mpfi       3.47    2.68   \n",
       "1         dohc           four         130       mpfi       3.47    2.68   \n",
       "2         ohcv            six         152       mpfi       2.68    3.47   \n",
       "3          ohc           four         109       mpfi       3.19    3.40   \n",
       "4          ohc           five         136       mpfi       3.19    3.40   \n",
       "..         ...            ...         ...        ...        ...     ...   \n",
       "200        ohc           four         141       mpfi       3.78    3.15   \n",
       "201        ohc           four         141       mpfi       3.78    3.15   \n",
       "202       ohcv            six         173       mpfi       3.58    2.87   \n",
       "203        ohc            six         145        idi       3.01    3.40   \n",
       "204        ohc           four         141       mpfi       3.78    3.15   \n",
       "\n",
       "     compressionratio  horsepower  peakrpm  citympg  highwaympg    price  \n",
       "0                 9.0         111     5000       21          27  13495.0  \n",
       "1                 9.0         111     5000       21          27  16500.0  \n",
       "2                 9.0         154     5000       19          26  16500.0  \n",
       "3                10.0         102     5500       24          30  13950.0  \n",
       "4                 8.0         115     5500       18          22  17450.0  \n",
       "..                ...         ...      ...      ...         ...      ...  \n",
       "200               9.5         114     5400       23          28  16845.0  \n",
       "201               8.7         160     5300       19          25  19045.0  \n",
       "202               8.8         134     5500       18          23  21485.0  \n",
       "203              23.0         106     4800       26          27  22470.0  \n",
       "204               9.5         114     5400       19          25  22625.0  \n",
       "\n",
       "[205 rows x 24 columns]"
      ]
     },
     "execution_count": 11,
     "metadata": {},
     "output_type": "execute_result"
    }
   ],
   "source": [
    "data1"
   ]
  },
  {
   "cell_type": "code",
   "execution_count": 12,
   "id": "fe9a104c",
   "metadata": {},
   "outputs": [],
   "source": [
    "data1[\"symboling\"]=data1[\"symboling\"].astype(\"category\")\n",
    "data1[\"cylindernumber\"]=data1[\"cylindernumber\"].astype(\"category\")\n",
    "data1[\"doornumber\"]=data1[\"doornumber\"].astype(\"category\")"
   ]
  },
  {
   "cell_type": "code",
   "execution_count": null,
   "id": "6d4e2ed4",
   "metadata": {},
   "outputs": [],
   "source": []
  },
  {
   "cell_type": "code",
   "execution_count": 13,
   "id": "23a8dde3",
   "metadata": {},
   "outputs": [],
   "source": [
    "fv=data1.iloc[:,:-1]\n",
    "cv=data1.iloc[:,-1]"
   ]
  },
  {
   "cell_type": "code",
   "execution_count": 14,
   "id": "63e2be99",
   "metadata": {},
   "outputs": [],
   "source": [
    "x_train,x_test,y_train,y_test=train_test_split(fv,cv,test_size=0.2)"
   ]
  },
  {
   "cell_type": "code",
   "execution_count": 15,
   "id": "fb825e19",
   "metadata": {},
   "outputs": [
    {
     "name": "stdout",
     "output_type": "stream",
     "text": [
      "<class 'pandas.core.frame.DataFrame'>\n",
      "Int64Index: 164 entries, 50 to 191\n",
      "Data columns (total 23 columns):\n",
      " #   Column            Non-Null Count  Dtype   \n",
      "---  ------            --------------  -----   \n",
      " 0   symboling         164 non-null    category\n",
      " 1   fueltype          164 non-null    object  \n",
      " 2   aspiration        164 non-null    object  \n",
      " 3   doornumber        164 non-null    category\n",
      " 4   carbody           164 non-null    object  \n",
      " 5   drivewheel        164 non-null    object  \n",
      " 6   enginelocation    164 non-null    object  \n",
      " 7   wheelbase         164 non-null    float64 \n",
      " 8   carlength         164 non-null    float64 \n",
      " 9   carwidth          164 non-null    float64 \n",
      " 10  carheight         164 non-null    float64 \n",
      " 11  curbweight        164 non-null    int64   \n",
      " 12  enginetype        164 non-null    object  \n",
      " 13  cylindernumber    164 non-null    category\n",
      " 14  enginesize        164 non-null    int64   \n",
      " 15  fuelsystem        164 non-null    object  \n",
      " 16  boreratio         164 non-null    float64 \n",
      " 17  stroke            164 non-null    float64 \n",
      " 18  compressionratio  164 non-null    float64 \n",
      " 19  horsepower        164 non-null    int64   \n",
      " 20  peakrpm           164 non-null    int64   \n",
      " 21  citympg           164 non-null    int64   \n",
      " 22  highwaympg        164 non-null    int64   \n",
      "dtypes: category(3), float64(7), int64(6), object(7)\n",
      "memory usage: 28.1+ KB\n"
     ]
    }
   ],
   "source": [
    "x_train.info()"
   ]
  },
  {
   "cell_type": "code",
   "execution_count": null,
   "id": "fc559f63",
   "metadata": {},
   "outputs": [],
   "source": []
  },
  {
   "cell_type": "code",
   "execution_count": null,
   "id": "9b0202c4",
   "metadata": {},
   "outputs": [],
   "source": []
  },
  {
   "cell_type": "code",
   "execution_count": null,
   "id": "e1c8cbab",
   "metadata": {},
   "outputs": [],
   "source": []
  },
  {
   "cell_type": "code",
   "execution_count": 89,
   "id": "51506022",
   "metadata": {},
   "outputs": [
    {
     "name": "stdout",
     "output_type": "stream",
     "text": [
      "symboling\n"
     ]
    },
    {
     "data": {
      "image/png": "[encoded data removed]",
      "text/plain": [
       "<Figure size 1000x500 with 1 Axes>"
      ]
     },
     "metadata": {},
     "output_type": "display_data"
    },
    {
     "name": "stdout",
     "output_type": "stream",
     "text": [
      "fueltype\n"
     ]
    },
    {
     "data": {
      "image/png": "[encoded data removed]",
      "text/plain": [
       "<Figure size 1000x500 with 1 Axes>"
      ]
     },
     "metadata": {},
     "output_type": "display_data"
    },
    {
     "name": "stdout",
     "output_type": "stream",
     "text": [
      "aspiration\n"
     ]
    },
    {
     "data": {
      "image/png": "[encoded data removed]",
      "text/plain": [
       "<Figure size 1000x500 with 1 Axes>"
      ]
     },
     "metadata": {},
     "output_type": "display_data"
    },
    {
     "name": "stdout",
     "output_type": "stream",
     "text": [
      "doornumber\n"
     ]
    },
    {
     "data": {
      "image/png": "[encoded data removed]",
      "text/plain": [
       "<Figure size 1000x500 with 1 Axes>"
      ]
     },
     "metadata": {},
     "output_type": "display_data"
    },
    {
     "name": "stdout",
     "output_type": "stream",
     "text": [
      "carbody\n"
     ]
    },
    {
     "data": {
      "image/png": "[encoded data removed]",
      "text/plain": [
       "<Figure size 1000x500 with 1 Axes>"
      ]
     },
     "metadata": {},
     "output_type": "display_data"
    },
    {
     "name": "stdout",
     "output_type": "stream",
     "text": [
      "drivewheel\n"
     ]
    },
    {
     "data": {
      "image/png": "[encoded data removed]",
      "text/plain": [
       "<Figure size 1000x500 with 1 Axes>"
      ]
     },
     "metadata": {},
     "output_type": "display_data"
    },
    {
     "name": "stdout",
     "output_type": "stream",
     "text": [
      "enginelocation\n"
     ]
    },
    {
     "data": {
      "image/png": "[encoded data removed]",
      "text/plain": [
       "<Figure size 1000x500 with 1 Axes>"
      ]
     },
     "metadata": {},
     "output_type": "display_data"
    },
    {
     "name": "stdout",
     "output_type": "stream",
     "text": [
      "wheelbase\n"
     ]
    },
    {
     "data": {
      "image/png": "[encoded data removed]",
      "text/plain": [
       "<Figure size 1000x500 with 1 Axes>"
      ]
     },
     "metadata": {},
     "output_type": "display_data"
    },
    {
     "name": "stdout",
     "output_type": "stream",
     "text": [
      "carlength\n"
     ]
    },
    {
     "data": {
      "image/png": "[encoded data removed]",
      "text/plain": [
       "<Figure size 1000x500 with 1 Axes>"
      ]
     },
     "metadata": {},
     "output_type": "display_data"
    },
    {
     "name": "stdout",
     "output_type": "stream",
     "text": [
      "carwidth\n"
     ]
    },
    {
     "data": {
      "image/png": "[encoded data removed]",
      "text/plain": [
       "<Figure size 1000x500 with 1 Axes>"
      ]
     },
     "metadata": {},
     "output_type": "display_data"
    },
    {
     "name": "stdout",
     "output_type": "stream",
     "text": [
      "carheight\n"
     ]
    },
    {
     "data": {
      "image/png": "[encoded data removed]",
      "text/plain": [
       "<Figure size 1000x500 with 1 Axes>"
      ]
     },
     "metadata": {},
     "output_type": "display_data"
    },
    {
     "name": "stdout",
     "output_type": "stream",
     "text": [
      "curbweight\n"
     ]
    },
    {
     "data": {
      "image/png": "[encoded data removed]",
      "text/plain": [
       "<Figure size 1000x500 with 1 Axes>"
      ]
     },
     "metadata": {},
     "output_type": "display_data"
    },
    {
     "name": "stdout",
     "output_type": "stream",
     "text": [
      "enginetype\n"
     ]
    },
    {
     "data": {
      "image/png": "[encoded data removed]",
      "text/plain": [
       "<Figure size 1000x500 with 1 Axes>"
      ]
     },
     "metadata": {},
     "output_type": "display_data"
    },
    {
     "name": "stdout",
     "output_type": "stream",
     "text": [
      "cylindernumber\n"
     ]
    },
    {
     "data": {
      "image/png": "[encoded data removed]",
      "text/plain": [
       "<Figure size 1000x500 with 1 Axes>"
      ]
     },
     "metadata": {},
     "output_type": "display_data"
    },
    {
     "name": "stdout",
     "output_type": "stream",
     "text": [
      "enginesize\n"
     ]
    },
    {
     "data": {
      "image/png": "[encoded data removed]",
      "text/plain": [
       "<Figure size 1000x500 with 1 Axes>"
      ]
     },
     "metadata": {},
     "output_type": "display_data"
    },
    {
     "name": "stdout",
     "output_type": "stream",
     "text": [
      "fuelsystem\n"
     ]
    },
    {
     "data": {
      "image/png": "[encoded data removed]",
      "text/plain": [
       "<Figure size 1000x500 with 1 Axes>"
      ]
     },
     "metadata": {},
     "output_type": "display_data"
    },
    {
     "name": "stdout",
     "output_type": "stream",
     "text": [
      "boreratio\n"
     ]
    },
    {
     "data": {
      "image/png": "[encoded data removed]",
      "text/plain": [
       "<Figure size 1000x500 with 1 Axes>"
      ]
     },
     "metadata": {},
     "output_type": "display_data"
    },
    {
     "name": "stdout",
     "output_type": "stream",
     "text": [
      "stroke\n"
     ]
    },
    {
     "data": {
      "image/png": "[encoded data removed]",
      "text/plain": [
       "<Figure size 1000x500 with 1 Axes>"
      ]
     },
     "metadata": {},
     "output_type": "display_data"
    },
    {
     "name": "stdout",
     "output_type": "stream",
     "text": [
      "compressionratio\n"
     ]
    },
    {
     "data": {
      "image/png": "[encoded data removed]",
      "text/plain": [
       "<Figure size 1000x500 with 1 Axes>"
      ]
     },
     "metadata": {},
     "output_type": "display_data"
    },
    {
     "name": "stdout",
     "output_type": "stream",
     "text": [
      "horsepower\n"
     ]
    },
    {
     "data": {
      "image/png": "[encoded data removed]",
      "text/plain": [
       "<Figure size 1000x500 with 1 Axes>"
      ]
     },
     "metadata": {},
     "output_type": "display_data"
    },
    {
     "name": "stdout",
     "output_type": "stream",
     "text": [
      "peakrpm\n"
     ]
    },
    {
     "data": {
      "image/png": "[encoded data removed]",
      "text/plain": [
       "<Figure size 1000x500 with 1 Axes>"
      ]
     },
     "metadata": {},
     "output_type": "display_data"
    },
    {
     "name": "stdout",
     "output_type": "stream",
     "text": [
      "citympg\n"
     ]
    },
    {
     "data": {
      "image/png": "[encoded data removed]",
      "text/plain": [
       "<Figure size 1000x500 with 1 Axes>"
      ]
     },
     "metadata": {},
     "output_type": "display_data"
    },
    {
     "name": "stdout",
     "output_type": "stream",
     "text": [
      "highwaympg\n"
     ]
    },
    {
     "data": {
      "image/png": "[encoded data removed]",
      "text/plain": [
       "<Figure size 1000x500 with 1 Axes>"
      ]
     },
     "metadata": {},
     "output_type": "display_data"
    }
   ],
   "source": [
    "for col in x_train.columns:\n",
    "    print(col)\n",
    "    plt.figure(figsize=(10,5))\n",
    "    a=sns.barplot(data=x_train,x=x_train[col].value_counts().index,y=x_train[col].value_counts().sort_values().values)\n",
    "    plt.show()"
   ]
  },
  {
   "cell_type": "code",
   "execution_count": 17,
   "id": "9a5cacc1",
   "metadata": {},
   "outputs": [
    {
     "name": "stdout",
     "output_type": "stream",
     "text": [
      "symboling  contains : 6  labels\n",
      "fueltype  contains : 2  labels\n",
      "aspiration  contains : 2  labels\n",
      "doornumber  contains : 2  labels\n",
      "carbody  contains : 5  labels\n",
      "drivewheel  contains : 3  labels\n",
      "enginelocation  contains : 2  labels\n",
      "wheelbase  contains : 49  labels\n",
      "carlength  contains : 71  labels\n",
      "carwidth  contains : 42  labels\n",
      "carheight  contains : 47  labels\n",
      "curbweight  contains : 139  labels\n",
      "enginetype  contains : 7  labels\n",
      "cylindernumber  contains : 7  labels\n",
      "enginesize  contains : 42  labels\n",
      "fuelsystem  contains : 8  labels\n",
      "boreratio  contains : 37  labels\n",
      "stroke  contains : 37  labels\n",
      "compressionratio  contains : 29  labels\n",
      "horsepower  contains : 55  labels\n",
      "peakrpm  contains : 23  labels\n",
      "citympg  contains : 28  labels\n",
      "highwaympg  contains : 29  labels\n"
     ]
    }
   ],
   "source": [
    "for cols in x_train:\n",
    "    print(cols,\" contains :\",x_train[cols].nunique(),\" labels\")"
   ]
  },
  {
   "cell_type": "code",
   "execution_count": 79,
   "id": "1c6403a9",
   "metadata": {},
   "outputs": [
    {
     "data": {
      "image/png": "[encoded data removed]",
      "text/plain": [
       "<Figure size 640x480 with 1 Axes>"
      ]
     },
     "metadata": {},
     "output_type": "display_data"
    }
   ],
   "source": [
    "unique_value_counts = x_train.apply(lambda column: column.nunique())\n",
    "a=sns.barplot(x=unique_value_counts.index,y=unique_value_counts.sort_values().values )\n",
    "for i in a.containers:\n",
    "    a.bar_label(i)\n",
    "plt.title(\"Distribution of unique values in each column\")\n",
    "plt.xticks(rotation=90)\n",
    "plt.show()"
   ]
  },
  {
   "cell_type": "code",
   "execution_count": null,
   "id": "a82565a9",
   "metadata": {},
   "outputs": [],
   "source": []
  },
  {
   "cell_type": "code",
   "execution_count": null,
   "id": "6c5b7dcd",
   "metadata": {},
   "outputs": [],
   "source": []
  },
  {
   "cell_type": "code",
   "execution_count": null,
   "id": "c54a600f",
   "metadata": {},
   "outputs": [],
   "source": []
  },
  {
   "cell_type": "code",
   "execution_count": null,
   "id": "9ed24441",
   "metadata": {},
   "outputs": [],
   "source": []
  },
  {
   "cell_type": "code",
   "execution_count": null,
   "id": "2f2759e5",
   "metadata": {},
   "outputs": [],
   "source": []
  },
  {
   "cell_type": "code",
   "execution_count": 16,
   "id": "f104bf37",
   "metadata": {},
   "outputs": [],
   "source": [
    "# seperating the numerical and categorical columns of x_train to perfom transformation using pipeline\n",
    "numerical_data=x_train.select_dtypes(include=[\"int64\",\"float64\"])\n",
    "cat_data=x_train.select_dtypes(include=[\"object\"])\n",
    "ord_data=x_train.select_dtypes(include=[\"category\"])"
   ]
  },
  {
   "cell_type": "code",
   "execution_count": 18,
   "id": "a823dd41",
   "metadata": {},
   "outputs": [],
   "source": [
    "#Pipeline for numerical columns to perform actions like impute missing values,scaling and transformtion\n",
    "num_p=Pipeline([(\"imputing_n\",SimpleImputer()),(\"scaling\",StandardScaler())])"
   ]
  },
  {
   "cell_type": "code",
   "execution_count": 19,
   "id": "bcbbd030",
   "metadata": {},
   "outputs": [],
   "source": [
    "cp=Pipeline([(\"imputing_c\",SimpleImputer(strategy=\"most_frequent\")),(\"Encoder\",OneHotEncoder(handle_unknown=\"ignore\"))])\n"
   ]
  },
  {
   "cell_type": "code",
   "execution_count": 20,
   "id": "ebcc49e5",
   "metadata": {},
   "outputs": [],
   "source": [
    "op=Pipeline([(\"impute_c\",SimpleImputer(strategy=\"most_frequent\")),(\"Encoder1\",OrdinalEncoder(handle_unknown='use_encoded_value', unknown_value=-1))])"
   ]
  },
  {
   "cell_type": "code",
   "execution_count": 21,
   "id": "715e4a81",
   "metadata": {},
   "outputs": [],
   "source": [
    "# creating column transformer using pipeline created\n",
    "ct=ColumnTransformer(transformers=[(\"numerical\",num_p,numerical_data.columns),(\"nominal\",cp,cat_data.columns),\n",
    "                                   (\"ordinal\",op,ord_data.columns)],remainder=\"passthrough\")"
   ]
  },
  {
   "cell_type": "code",
   "execution_count": 22,
   "id": "4b88a80e",
   "metadata": {},
   "outputs": [
    {
     "data": {
      "text/html": [
       "<style>#sk-container-id-1 {color: black;background-color: white;}#sk-container-id-1 pre{padding: 0;}#sk-container-id-1 div.sk-toggleable {background-color: white;}#sk-container-id-1 label.sk-toggleable__label {cursor: pointer;display: block;width: 100%;margin-bottom: 0;padding: 0.3em;box-sizing: border-box;text-align: center;}#sk-container-id-1 label.sk-toggleable__label-arrow:before {content: \"▸\";float: left;margin-right: 0.25em;color: #696969;}#sk-container-id-1 label.sk-toggleable__label-arrow:hover:before {color: black;}#sk-container-id-1 div.sk-estimator:hover label.sk-toggleable__label-arrow:before {color: black;}#sk-container-id-1 div.sk-toggleable__content {max-height: 0;max-width: 0;overflow: hidden;text-align: left;background-color: #f0f8ff;}#sk-container-id-1 div.sk-toggleable__content pre {margin: 0.2em;color: black;border-radius: 0.25em;background-color: #f0f8ff;}#sk-container-id-1 input.sk-toggleable__control:checked~div.sk-toggleable__content {max-height: 200px;max-width: 100%;overflow: auto;}#sk-container-id-1 input.sk-toggleable__control:checked~label.sk-toggleable__label-arrow:before {content: \"▾\";}#sk-container-id-1 div.sk-estimator input.sk-toggleable__control:checked~label.sk-toggleable__label {background-color: #d4ebff;}#sk-container-id-1 div.sk-label input.sk-toggleable__control:checked~label.sk-toggleable__label {background-color: #d4ebff;}#sk-container-id-1 input.sk-hidden--visually {border: 0;clip: rect(1px 1px 1px 1px);clip: rect(1px, 1px, 1px, 1px);height: 1px;margin: -1px;overflow: hidden;padding: 0;position: absolute;width: 1px;}#sk-container-id-1 div.sk-estimator {font-family: monospace;background-color: #f0f8ff;border: 1px dotted black;border-radius: 0.25em;box-sizing: border-box;margin-bottom: 0.5em;}#sk-container-id-1 div.sk-estimator:hover {background-color: #d4ebff;}#sk-container-id-1 div.sk-parallel-item::after {content: \"\";width: 100%;border-bottom: 1px solid gray;flex-grow: 1;}#sk-container-id-1 div.sk-label:hover label.sk-toggleable__label {background-color: #d4ebff;}#sk-container-id-1 div.sk-serial::before {content: \"\";position: absolute;border-left: 1px solid gray;box-sizing: border-box;top: 0;bottom: 0;left: 50%;z-index: 0;}#sk-container-id-1 div.sk-serial {display: flex;flex-direction: column;align-items: center;background-color: white;padding-right: 0.2em;padding-left: 0.2em;position: relative;}#sk-container-id-1 div.sk-item {position: relative;z-index: 1;}#sk-container-id-1 div.sk-parallel {display: flex;align-items: stretch;justify-content: center;background-color: white;position: relative;}#sk-container-id-1 div.sk-item::before, #sk-container-id-1 div.sk-parallel-item::before {content: \"\";position: absolute;border-left: 1px solid gray;box-sizing: border-box;top: 0;bottom: 0;left: 50%;z-index: -1;}#sk-container-id-1 div.sk-parallel-item {display: flex;flex-direction: column;z-index: 1;position: relative;background-color: white;}#sk-container-id-1 div.sk-parallel-item:first-child::after {align-self: flex-end;width: 50%;}#sk-container-id-1 div.sk-parallel-item:last-child::after {align-self: flex-start;width: 50%;}#sk-container-id-1 div.sk-parallel-item:only-child::after {width: 0;}#sk-container-id-1 div.sk-dashed-wrapped {border: 1px dashed gray;margin: 0 0.4em 0.5em 0.4em;box-sizing: border-box;padding-bottom: 0.4em;background-color: white;}#sk-container-id-1 div.sk-label label {font-family: monospace;font-weight: bold;display: inline-block;line-height: 1.2em;}#sk-container-id-1 div.sk-label-container {text-align: center;}#sk-container-id-1 div.sk-container {/* jupyter's `normalize.less` sets `[hidden] { display: none; }` but bootstrap.min.css set `[hidden] { display: none !important; }` so we also need the `!important` here to be able to override the default hidden behavior on the sphinx rendered scikit-learn.org. See: https://github.com/scikit-learn/scikit-learn/issues/21755 */display: inline-block !important;position: relative;}#sk-container-id-1 div.sk-text-repr-fallback {display: none;}</style><div id=\"sk-container-id-1\" class=\"sk-top-container\"><div class=\"sk-text-repr-fallback\"><pre>ColumnTransformer(remainder=&#x27;passthrough&#x27;,\n",
       "                  transformers=[(&#x27;numerical&#x27;,\n",
       "                                 Pipeline(steps=[(&#x27;imputing_n&#x27;,\n",
       "                                                  SimpleImputer()),\n",
       "                                                 (&#x27;scaling&#x27;,\n",
       "                                                  StandardScaler())]),\n",
       "                                 Index([&#x27;wheelbase&#x27;, &#x27;carlength&#x27;, &#x27;carwidth&#x27;, &#x27;carheight&#x27;, &#x27;curbweight&#x27;,\n",
       "       &#x27;enginesize&#x27;, &#x27;boreratio&#x27;, &#x27;stroke&#x27;, &#x27;compressionratio&#x27;, &#x27;horsepower&#x27;,\n",
       "       &#x27;peakrpm&#x27;, &#x27;citympg&#x27;, &#x27;highwaympg&#x27;],\n",
       "      dtype=&#x27;object&#x27;)),\n",
       "                                (&#x27;nominal&#x27;,\n",
       "                                 Pipeline...\n",
       "                                                  OneHotEncoder(handle_unknown=&#x27;ignore&#x27;))]),\n",
       "                                 Index([&#x27;fueltype&#x27;, &#x27;aspiration&#x27;, &#x27;carbody&#x27;, &#x27;drivewheel&#x27;, &#x27;enginelocation&#x27;,\n",
       "       &#x27;enginetype&#x27;, &#x27;fuelsystem&#x27;],\n",
       "      dtype=&#x27;object&#x27;)),\n",
       "                                (&#x27;ordinal&#x27;,\n",
       "                                 Pipeline(steps=[(&#x27;impute_c&#x27;,\n",
       "                                                  SimpleImputer(strategy=&#x27;most_frequent&#x27;)),\n",
       "                                                 (&#x27;Encoder1&#x27;,\n",
       "                                                  OrdinalEncoder(handle_unknown=&#x27;use_encoded_value&#x27;,\n",
       "                                                                 unknown_value=-1))]),\n",
       "                                 Index([&#x27;symboling&#x27;, &#x27;doornumber&#x27;, &#x27;cylindernumber&#x27;], dtype=&#x27;object&#x27;))])</pre><b>In a Jupyter environment, please rerun this cell to show the HTML representation or trust the notebook. <br />On GitHub, the HTML representation is unable to render, please try loading this page with nbviewer.org.</b></div><div class=\"sk-container\" hidden><div class=\"sk-item sk-dashed-wrapped\"><div class=\"sk-label-container\"><div class=\"sk-label sk-toggleable\"><input class=\"sk-toggleable__control sk-hidden--visually\" id=\"sk-estimator-id-1\" type=\"checkbox\" ><label for=\"sk-estimator-id-1\" class=\"sk-toggleable__label sk-toggleable__label-arrow\">ColumnTransformer</label><div class=\"sk-toggleable__content\"><pre>ColumnTransformer(remainder=&#x27;passthrough&#x27;,\n",
       "                  transformers=[(&#x27;numerical&#x27;,\n",
       "                                 Pipeline(steps=[(&#x27;imputing_n&#x27;,\n",
       "                                                  SimpleImputer()),\n",
       "                                                 (&#x27;scaling&#x27;,\n",
       "                                                  StandardScaler())]),\n",
       "                                 Index([&#x27;wheelbase&#x27;, &#x27;carlength&#x27;, &#x27;carwidth&#x27;, &#x27;carheight&#x27;, &#x27;curbweight&#x27;,\n",
       "       &#x27;enginesize&#x27;, &#x27;boreratio&#x27;, &#x27;stroke&#x27;, &#x27;compressionratio&#x27;, &#x27;horsepower&#x27;,\n",
       "       &#x27;peakrpm&#x27;, &#x27;citympg&#x27;, &#x27;highwaympg&#x27;],\n",
       "      dtype=&#x27;object&#x27;)),\n",
       "                                (&#x27;nominal&#x27;,\n",
       "                                 Pipeline...\n",
       "                                                  OneHotEncoder(handle_unknown=&#x27;ignore&#x27;))]),\n",
       "                                 Index([&#x27;fueltype&#x27;, &#x27;aspiration&#x27;, &#x27;carbody&#x27;, &#x27;drivewheel&#x27;, &#x27;enginelocation&#x27;,\n",
       "       &#x27;enginetype&#x27;, &#x27;fuelsystem&#x27;],\n",
       "      dtype=&#x27;object&#x27;)),\n",
       "                                (&#x27;ordinal&#x27;,\n",
       "                                 Pipeline(steps=[(&#x27;impute_c&#x27;,\n",
       "                                                  SimpleImputer(strategy=&#x27;most_frequent&#x27;)),\n",
       "                                                 (&#x27;Encoder1&#x27;,\n",
       "                                                  OrdinalEncoder(handle_unknown=&#x27;use_encoded_value&#x27;,\n",
       "                                                                 unknown_value=-1))]),\n",
       "                                 Index([&#x27;symboling&#x27;, &#x27;doornumber&#x27;, &#x27;cylindernumber&#x27;], dtype=&#x27;object&#x27;))])</pre></div></div></div><div class=\"sk-parallel\"><div class=\"sk-parallel-item\"><div class=\"sk-item\"><div class=\"sk-label-container\"><div class=\"sk-label sk-toggleable\"><input class=\"sk-toggleable__control sk-hidden--visually\" id=\"sk-estimator-id-2\" type=\"checkbox\" ><label for=\"sk-estimator-id-2\" class=\"sk-toggleable__label sk-toggleable__label-arrow\">numerical</label><div class=\"sk-toggleable__content\"><pre>Index([&#x27;wheelbase&#x27;, &#x27;carlength&#x27;, &#x27;carwidth&#x27;, &#x27;carheight&#x27;, &#x27;curbweight&#x27;,\n",
       "       &#x27;enginesize&#x27;, &#x27;boreratio&#x27;, &#x27;stroke&#x27;, &#x27;compressionratio&#x27;, &#x27;horsepower&#x27;,\n",
       "       &#x27;peakrpm&#x27;, &#x27;citympg&#x27;, &#x27;highwaympg&#x27;],\n",
       "      dtype=&#x27;object&#x27;)</pre></div></div></div><div class=\"sk-serial\"><div class=\"sk-item\"><div class=\"sk-serial\"><div class=\"sk-item\"><div class=\"sk-estimator sk-toggleable\"><input class=\"sk-toggleable__control sk-hidden--visually\" id=\"sk-estimator-id-3\" type=\"checkbox\" ><label for=\"sk-estimator-id-3\" class=\"sk-toggleable__label sk-toggleable__label-arrow\">SimpleImputer</label><div class=\"sk-toggleable__content\"><pre>SimpleImputer()</pre></div></div></div><div class=\"sk-item\"><div class=\"sk-estimator sk-toggleable\"><input class=\"sk-toggleable__control sk-hidden--visually\" id=\"sk-estimator-id-4\" type=\"checkbox\" ><label for=\"sk-estimator-id-4\" class=\"sk-toggleable__label sk-toggleable__label-arrow\">StandardScaler</label><div class=\"sk-toggleable__content\"><pre>StandardScaler()</pre></div></div></div></div></div></div></div></div><div class=\"sk-parallel-item\"><div class=\"sk-item\"><div class=\"sk-label-container\"><div class=\"sk-label sk-toggleable\"><input class=\"sk-toggleable__control sk-hidden--visually\" id=\"sk-estimator-id-5\" type=\"checkbox\" ><label for=\"sk-estimator-id-5\" class=\"sk-toggleable__label sk-toggleable__label-arrow\">nominal</label><div class=\"sk-toggleable__content\"><pre>Index([&#x27;fueltype&#x27;, &#x27;aspiration&#x27;, &#x27;carbody&#x27;, &#x27;drivewheel&#x27;, &#x27;enginelocation&#x27;,\n",
       "       &#x27;enginetype&#x27;, &#x27;fuelsystem&#x27;],\n",
       "      dtype=&#x27;object&#x27;)</pre></div></div></div><div class=\"sk-serial\"><div class=\"sk-item\"><div class=\"sk-serial\"><div class=\"sk-item\"><div class=\"sk-estimator sk-toggleable\"><input class=\"sk-toggleable__control sk-hidden--visually\" id=\"sk-estimator-id-6\" type=\"checkbox\" ><label for=\"sk-estimator-id-6\" class=\"sk-toggleable__label sk-toggleable__label-arrow\">SimpleImputer</label><div class=\"sk-toggleable__content\"><pre>SimpleImputer(strategy=&#x27;most_frequent&#x27;)</pre></div></div></div><div class=\"sk-item\"><div class=\"sk-estimator sk-toggleable\"><input class=\"sk-toggleable__control sk-hidden--visually\" id=\"sk-estimator-id-7\" type=\"checkbox\" ><label for=\"sk-estimator-id-7\" class=\"sk-toggleable__label sk-toggleable__label-arrow\">OneHotEncoder</label><div class=\"sk-toggleable__content\"><pre>OneHotEncoder(handle_unknown=&#x27;ignore&#x27;)</pre></div></div></div></div></div></div></div></div><div class=\"sk-parallel-item\"><div class=\"sk-item\"><div class=\"sk-label-container\"><div class=\"sk-label sk-toggleable\"><input class=\"sk-toggleable__control sk-hidden--visually\" id=\"sk-estimator-id-8\" type=\"checkbox\" ><label for=\"sk-estimator-id-8\" class=\"sk-toggleable__label sk-toggleable__label-arrow\">ordinal</label><div class=\"sk-toggleable__content\"><pre>Index([&#x27;symboling&#x27;, &#x27;doornumber&#x27;, &#x27;cylindernumber&#x27;], dtype=&#x27;object&#x27;)</pre></div></div></div><div class=\"sk-serial\"><div class=\"sk-item\"><div class=\"sk-serial\"><div class=\"sk-item\"><div class=\"sk-estimator sk-toggleable\"><input class=\"sk-toggleable__control sk-hidden--visually\" id=\"sk-estimator-id-9\" type=\"checkbox\" ><label for=\"sk-estimator-id-9\" class=\"sk-toggleable__label sk-toggleable__label-arrow\">SimpleImputer</label><div class=\"sk-toggleable__content\"><pre>SimpleImputer(strategy=&#x27;most_frequent&#x27;)</pre></div></div></div><div class=\"sk-item\"><div class=\"sk-estimator sk-toggleable\"><input class=\"sk-toggleable__control sk-hidden--visually\" id=\"sk-estimator-id-10\" type=\"checkbox\" ><label for=\"sk-estimator-id-10\" class=\"sk-toggleable__label sk-toggleable__label-arrow\">OrdinalEncoder</label><div class=\"sk-toggleable__content\"><pre>OrdinalEncoder(handle_unknown=&#x27;use_encoded_value&#x27;, unknown_value=-1)</pre></div></div></div></div></div></div></div></div><div class=\"sk-parallel-item\"><div class=\"sk-item\"><div class=\"sk-label-container\"><div class=\"sk-label sk-toggleable\"><input class=\"sk-toggleable__control sk-hidden--visually\" id=\"sk-estimator-id-11\" type=\"checkbox\" ><label for=\"sk-estimator-id-11\" class=\"sk-toggleable__label sk-toggleable__label-arrow\">remainder</label><div class=\"sk-toggleable__content\"><pre></pre></div></div></div><div class=\"sk-serial\"><div class=\"sk-item\"><div class=\"sk-estimator sk-toggleable\"><input class=\"sk-toggleable__control sk-hidden--visually\" id=\"sk-estimator-id-12\" type=\"checkbox\" ><label for=\"sk-estimator-id-12\" class=\"sk-toggleable__label sk-toggleable__label-arrow\">passthrough</label><div class=\"sk-toggleable__content\"><pre>passthrough</pre></div></div></div></div></div></div></div></div></div></div>"
      ],
      "text/plain": [
       "ColumnTransformer(remainder='passthrough',\n",
       "                  transformers=[('numerical',\n",
       "                                 Pipeline(steps=[('imputing_n',\n",
       "                                                  SimpleImputer()),\n",
       "                                                 ('scaling',\n",
       "                                                  StandardScaler())]),\n",
       "                                 Index(['wheelbase', 'carlength', 'carwidth', 'carheight', 'curbweight',\n",
       "       'enginesize', 'boreratio', 'stroke', 'compressionratio', 'horsepower',\n",
       "       'peakrpm', 'citympg', 'highwaympg'],\n",
       "      dtype='object')),\n",
       "                                ('nominal',\n",
       "                                 Pipeline...\n",
       "                                                  OneHotEncoder(handle_unknown='ignore'))]),\n",
       "                                 Index(['fueltype', 'aspiration', 'carbody', 'drivewheel', 'enginelocation',\n",
       "       'enginetype', 'fuelsystem'],\n",
       "      dtype='object')),\n",
       "                                ('ordinal',\n",
       "                                 Pipeline(steps=[('impute_c',\n",
       "                                                  SimpleImputer(strategy='most_frequent')),\n",
       "                                                 ('Encoder1',\n",
       "                                                  OrdinalEncoder(handle_unknown='use_encoded_value',\n",
       "                                                                 unknown_value=-1))]),\n",
       "                                 Index(['symboling', 'doornumber', 'cylindernumber'], dtype='object'))])"
      ]
     },
     "execution_count": 22,
     "metadata": {},
     "output_type": "execute_result"
    }
   ],
   "source": [
    "ct"
   ]
  },
  {
   "cell_type": "code",
   "execution_count": 23,
   "id": "72d348ed",
   "metadata": {},
   "outputs": [],
   "source": [
    "#Final pipeline\n",
    "pipeline = Pipeline(steps=[('preprocessor', ct)])"
   ]
  },
  {
   "cell_type": "code",
   "execution_count": 24,
   "id": "9a08067b",
   "metadata": {},
   "outputs": [],
   "source": [
    "#transform the train data by using column transformer pipeline \n",
    "fx_train=ct.fit_transform(x_train)"
   ]
  },
  {
   "cell_type": "code",
   "execution_count": null,
   "id": "1ce3b9f5",
   "metadata": {},
   "outputs": [],
   "source": []
  },
  {
   "cell_type": "code",
   "execution_count": 25,
   "id": "e6a34fc9",
   "metadata": {},
   "outputs": [],
   "source": [
    "# transforms the test data           \n",
    "fx_test=ct.transform(x_test)"
   ]
  },
  {
   "cell_type": "code",
   "execution_count": 26,
   "id": "62719817",
   "metadata": {},
   "outputs": [],
   "source": [
    "#the function takes model, train & test split as an argument\n",
    "def fit_model_getScores(model,X_train,y_train,X_test,y_test):\n",
    "    #fit the model with training dataset\n",
    "    model.fit(X_train,y_train)\n",
    "    \n",
    "    #score the training data\n",
    "    train_score=model.score(X_train,y_train)\n",
    "    #score the test data\n",
    "    test_score=model.score(X_test,y_test)\n",
    "    \n",
    "    #Display the scores\n",
    "    print(\"Scores of {}\".format(model),\"\\n\")\n",
    "    print(\"Training Score:{:.2f}\".format(train_score))\n",
    "    print(\"Testing Score:{:.2f}\".format(test_score))"
   ]
  },
  {
   "cell_type": "code",
   "execution_count": 27,
   "id": "23fdce4d",
   "metadata": {},
   "outputs": [],
   "source": [
    "linear_model=LinearRegression()"
   ]
  },
  {
   "cell_type": "code",
   "execution_count": 28,
   "id": "d871d40b",
   "metadata": {},
   "outputs": [
    {
     "name": "stdout",
     "output_type": "stream",
     "text": [
      "Scores of LinearRegression() \n",
      "\n",
      "Training Score:0.92\n",
      "Testing Score:0.91\n"
     ]
    }
   ],
   "source": [
    "fit_model_getScores(linear_model,fx_train,y_train,fx_test,y_test)"
   ]
  },
  {
   "cell_type": "code",
   "execution_count": 29,
   "id": "a4d0cd37",
   "metadata": {},
   "outputs": [],
   "source": [
    "def get_metrics(model,X_test,y_test):\n",
    "    #calculate the predicted value of y \n",
    "    y_pred=model.predict(X_test)\n",
    "    mse=mean_squared_error(y_test,y_pred)#mse\n",
    "    r2__score=r2_score(y_test,y_pred)#r2_score\n",
    "    mae=mean_absolute_error(y_test,y_pred)#mae\n",
    "    rmse=mean_squared_error(y_test,y_pred,squared=False)#rmse\n",
    "    \n",
    "    #print the metrics \n",
    "    print(\"The Metrics for {}:\".format(model))\n",
    "    print(\"----------------------------\")\n",
    "    print(\"Mean Squared Error:{:.2f}\".format(mse))\n",
    "    print(\"Root Mean Squared Error:{:.2f}\".format(rmse))\n",
    "    print(\"Mean Absolute Error:{:.2f}\".format(mae))\n",
    "    print(\"r2_score:{:.2f}\".format(r2__score))"
   ]
  },
  {
   "cell_type": "code",
   "execution_count": 30,
   "id": "27d05d35",
   "metadata": {},
   "outputs": [
    {
     "name": "stdout",
     "output_type": "stream",
     "text": [
      "The Metrics for LinearRegression():\n",
      "----------------------------\n",
      "Mean Squared Error:4667243.91\n",
      "Root Mean Squared Error:2160.38\n",
      "Mean Absolute Error:1704.28\n",
      "r2_score:0.91\n"
     ]
    }
   ],
   "source": [
    "get_metrics(linear_model,fx_test,y_test)"
   ]
  },
  {
   "cell_type": "markdown",
   "id": "5287d8d4",
   "metadata": {},
   "source": [
    "Mean Squared Error (MSE): This measures the average of the squares of the errors or deviations, which are the differences between actual and predicted values. It's calculated by taking the average of the squared differences between the predicted values and the actual values. In this case, it's 4667243.91.\n",
    "\n",
    "Root Mean Squared Error (RMSE): RMSE is the square root of the MSE. It gives a relatively high weight to large errors due to the squaring effect, and then takes the square root to bring the measurement back to the original scale. In this case, it's 2160.38.\n",
    "\n",
    "Mean Absolute Error (MAE): Unlike MSE, MAE measures the average absolute errors between the predicted values and the actual values. It is less sensitive to outliers compared to MSE since it doesn't square the errors. In this case, it's 1704.28.\n",
    "\n",
    "R-squared (r2_score): This is a statistical measure that represents the proportion of the variance for a dependent variable that's explained by an independent variable or variables in a regression model. It ranges from 0 to 1, where 1 indicates that the model explains all the variability of the response data around its mean. In this case, it's 0.91,\n",
    "    which means the model explains 91% of the variance in the data."
   ]
  },
  {
   "cell_type": "code",
   "execution_count": 48,
   "id": "51f3c0c0",
   "metadata": {},
   "outputs": [
    {
     "name": "stdout",
     "output_type": "stream",
     "text": [
      "Coefficient for column 0: 434.2632817071967\n",
      "Coefficient for column 1: -635.0946837789733\n",
      "Coefficient for column 2: 1135.8724125627025\n",
      "Coefficient for column 3: 702.6031368868726\n",
      "Coefficient for column 4: 2510.1487052515736\n",
      "Coefficient for column 5: 6589.636008875138\n",
      "Coefficient for column 6: -1111.748053568868\n",
      "Coefficient for column 7: -1425.4787347474426\n",
      "Coefficient for column 8: -7418.2910203564725\n",
      "Coefficient for column 9: 45.42239354812986\n",
      "Coefficient for column 10: 1345.8369819765664\n",
      "Coefficient for column 11: -120.12931287246263\n",
      "Coefficient for column 12: 1881.9304704651504\n",
      "Coefficient for column 13: 7891.35941100364\n",
      "Coefficient for column 14: -7891.359411003631\n",
      "Coefficient for column 15: -618.3303793563995\n",
      "Coefficient for column 16: 618.330379356539\n",
      "Coefficient for column 17: 2060.9360438287504\n",
      "Coefficient for column 18: -338.1412665986893\n",
      "Coefficient for column 19: -944.2352619971917\n",
      "Coefficient for column 20: 284.1272725589689\n",
      "Coefficient for column 21: -1062.6867877916975\n",
      "Coefficient for column 22: -666.6657413800071\n",
      "Coefficient for column 23: -576.1945612914284\n",
      "Coefficient for column 24: 1242.8603026714206\n",
      "Coefficient for column 25: -4508.7066310688\n",
      "Coefficient for column 26: 4508.706631068782\n",
      "Coefficient for column 27: -1595.9375018197268\n",
      "Coefficient for column 28: 1367.3691302995333\n",
      "Coefficient for column 29: -4448.250380038907\n",
      "Coefficient for column 30: 121.87136859625122\n",
      "Coefficient for column 31: -352.09941180722365\n",
      "Coefficient for column 32: -5634.137052816763\n",
      "Coefficient for column 33: 10541.183847586906\n",
      "Coefficient for column 34: -678.5566539952298\n",
      "Coefficient for column 35: -57.530500030871835\n",
      "Coefficient for column 36: -478.65331295558013\n",
      "Coefficient for column 37: 7891.359411003621\n",
      "Coefficient for column 38: -3242.856979010711\n",
      "Coefficient for column 39: 268.9313842793779\n",
      "Coefficient for column 40: -3429.5443041625826\n",
      "Coefficient for column 41: -273.14904512765514\n",
      "Coefficient for column 42: 83.04266531448593\n",
      "Coefficient for column 43: 637.1944282629806\n",
      "Coefficient for column 44: -104.80669817734069\n"
     ]
    }
   ],
   "source": [
    "# Assuming linear_model is your trained Linear Regression model\n",
    "coefficients = linear_model.coef_\n",
    "\n",
    "# Assuming fx_train is your feature matrix (NumPy array)\n",
    "num_columns = fx_train.shape[1]  # Get the number of columns/features\n",
    "\n",
    "# Printing coefficients for each column using numerical indices\n",
    "for i in range(num_columns):\n",
    "    print(f'Coefficient for column {i}: {coefficients[i]}')"
   ]
  },
  {
   "cell_type": "code",
   "execution_count": 50,
   "id": "d16ce83e",
   "metadata": {},
   "outputs": [
    {
     "name": "stdout",
     "output_type": "stream",
     "text": [
      "symboling: 434.2632817071967\n",
      "fueltype: -635.0946837789733\n",
      "aspiration: 1135.8724125627025\n",
      "doornumber: 702.6031368868726\n",
      "carbody: 2510.1487052515736\n",
      "drivewheel: 6589.636008875138\n",
      "enginelocation: -1111.748053568868\n",
      "wheelbase: -1425.4787347474426\n",
      "carlength: -7418.2910203564725\n",
      "carwidth: 45.42239354812986\n",
      "carheight: 1345.8369819765664\n",
      "curbweight: -120.12931287246263\n",
      "enginetype: 1881.9304704651504\n",
      "cylindernumber: 7891.35941100364\n",
      "enginesize: -7891.359411003631\n",
      "fuelsystem: -618.3303793563995\n",
      "boreratio: 618.330379356539\n",
      "stroke: 2060.9360438287504\n",
      "compressionratio: -338.1412665986893\n",
      "horsepower: -944.2352619971917\n",
      "peakrpm: 284.1272725589689\n",
      "citympg: -1062.6867877916975\n",
      "highwaympg: -666.6657413800071\n"
     ]
    }
   ],
   "source": [
    "# Assuming linear_model is your trained Linear Regression model\n",
    "coefficients = linear_model.coef_\n",
    "\n",
    "# Assuming fx_train is your feature matrix (DataFrame)\n",
    "column_names = x_train.columns\n",
    "\n",
    "# Creating a dictionary to store coefficients for each column\n",
    "coefficients_dict = dict(zip(column_names, coefficients))\n",
    "\n",
    "# Printing coefficients for each column\n",
    "for column, coef in coefficients_dict.items():\n",
    "    print(f'{column}: {coef}')"
   ]
  },
  {
   "cell_type": "markdown",
   "id": "c311440d",
   "metadata": {},
   "source": [
    "Positive Coefficients: Features with positive coefficients have a positive impact on the target variable. For example:\n",
    "\n",
    "A higher symboling value is associated with a higher predicted outcome.\n",
    "drivewheel seems to have the highest positive impact among all features, followed by cylindernumber and carbody.\n",
    "Negative Coefficients: Features with negative coefficients have a negative impact on the target variable. For example:\n",
    "\n",
    "A higher fueltype (assuming it's a binary variable) is associated with a lower predicted outcome.\n",
    "carlength, enginesize, horsepower, and citympg are some of the features with significant negative impacts.\n",
    "Magnitude of Coefficients: The magnitude of the coefficient indicates the strength of the impact of the corresponding feature on the target variable. Larger magnitudes suggest a stronger impact. For example:\n",
    "\n",
    "Features like drivewheel, cylindernumber, and stroke have relatively large coefficients, suggesting a stronger impact on the predicted outcome.\n",
    "Features like carwidth, curbweight, and peakrpm have coefficients with smaller magnitudes compared to others.\n",
    "Relative Importance: Comparing the magnitudes of coefficients allows you to assess the relative importance of different features in predicting the target variable. Features with larger coefficients are considered more important in the prediction process."
   ]
  },
  {
   "cell_type": "code",
   "execution_count": null,
   "id": "47b4d022",
   "metadata": {},
   "outputs": [],
   "source": [
    "#Grid Search"
   ]
  },
  {
   "cell_type": "code",
   "execution_count": null,
   "id": "568d7098",
   "metadata": {},
   "outputs": [],
   "source": [
    "#Ridge model "
   ]
  },
  {
   "cell_type": "code",
   "execution_count": 51,
   "id": "b359eff4",
   "metadata": {},
   "outputs": [],
   "source": [
    "ridge_model=Ridge()\n"
   ]
  },
  {
   "cell_type": "code",
   "execution_count": 55,
   "id": "a65c04c1",
   "metadata": {},
   "outputs": [
    {
     "data": {
      "text/html": [
       "<style>#sk-container-id-2 {color: black;background-color: white;}#sk-container-id-2 pre{padding: 0;}#sk-container-id-2 div.sk-toggleable {background-color: white;}#sk-container-id-2 label.sk-toggleable__label {cursor: pointer;display: block;width: 100%;margin-bottom: 0;padding: 0.3em;box-sizing: border-box;text-align: center;}#sk-container-id-2 label.sk-toggleable__label-arrow:before {content: \"▸\";float: left;margin-right: 0.25em;color: #696969;}#sk-container-id-2 label.sk-toggleable__label-arrow:hover:before {color: black;}#sk-container-id-2 div.sk-estimator:hover label.sk-toggleable__label-arrow:before {color: black;}#sk-container-id-2 div.sk-toggleable__content {max-height: 0;max-width: 0;overflow: hidden;text-align: left;background-color: #f0f8ff;}#sk-container-id-2 div.sk-toggleable__content pre {margin: 0.2em;color: black;border-radius: 0.25em;background-color: #f0f8ff;}#sk-container-id-2 input.sk-toggleable__control:checked~div.sk-toggleable__content {max-height: 200px;max-width: 100%;overflow: auto;}#sk-container-id-2 input.sk-toggleable__control:checked~label.sk-toggleable__label-arrow:before {content: \"▾\";}#sk-container-id-2 div.sk-estimator input.sk-toggleable__control:checked~label.sk-toggleable__label {background-color: #d4ebff;}#sk-container-id-2 div.sk-label input.sk-toggleable__control:checked~label.sk-toggleable__label {background-color: #d4ebff;}#sk-container-id-2 input.sk-hidden--visually {border: 0;clip: rect(1px 1px 1px 1px);clip: rect(1px, 1px, 1px, 1px);height: 1px;margin: -1px;overflow: hidden;padding: 0;position: absolute;width: 1px;}#sk-container-id-2 div.sk-estimator {font-family: monospace;background-color: #f0f8ff;border: 1px dotted black;border-radius: 0.25em;box-sizing: border-box;margin-bottom: 0.5em;}#sk-container-id-2 div.sk-estimator:hover {background-color: #d4ebff;}#sk-container-id-2 div.sk-parallel-item::after {content: \"\";width: 100%;border-bottom: 1px solid gray;flex-grow: 1;}#sk-container-id-2 div.sk-label:hover label.sk-toggleable__label {background-color: #d4ebff;}#sk-container-id-2 div.sk-serial::before {content: \"\";position: absolute;border-left: 1px solid gray;box-sizing: border-box;top: 0;bottom: 0;left: 50%;z-index: 0;}#sk-container-id-2 div.sk-serial {display: flex;flex-direction: column;align-items: center;background-color: white;padding-right: 0.2em;padding-left: 0.2em;position: relative;}#sk-container-id-2 div.sk-item {position: relative;z-index: 1;}#sk-container-id-2 div.sk-parallel {display: flex;align-items: stretch;justify-content: center;background-color: white;position: relative;}#sk-container-id-2 div.sk-item::before, #sk-container-id-2 div.sk-parallel-item::before {content: \"\";position: absolute;border-left: 1px solid gray;box-sizing: border-box;top: 0;bottom: 0;left: 50%;z-index: -1;}#sk-container-id-2 div.sk-parallel-item {display: flex;flex-direction: column;z-index: 1;position: relative;background-color: white;}#sk-container-id-2 div.sk-parallel-item:first-child::after {align-self: flex-end;width: 50%;}#sk-container-id-2 div.sk-parallel-item:last-child::after {align-self: flex-start;width: 50%;}#sk-container-id-2 div.sk-parallel-item:only-child::after {width: 0;}#sk-container-id-2 div.sk-dashed-wrapped {border: 1px dashed gray;margin: 0 0.4em 0.5em 0.4em;box-sizing: border-box;padding-bottom: 0.4em;background-color: white;}#sk-container-id-2 div.sk-label label {font-family: monospace;font-weight: bold;display: inline-block;line-height: 1.2em;}#sk-container-id-2 div.sk-label-container {text-align: center;}#sk-container-id-2 div.sk-container {/* jupyter's `normalize.less` sets `[hidden] { display: none; }` but bootstrap.min.css set `[hidden] { display: none !important; }` so we also need the `!important` here to be able to override the default hidden behavior on the sphinx rendered scikit-learn.org. See: https://github.com/scikit-learn/scikit-learn/issues/21755 */display: inline-block !important;position: relative;}#sk-container-id-2 div.sk-text-repr-fallback {display: none;}</style><div id=\"sk-container-id-2\" class=\"sk-top-container\"><div class=\"sk-text-repr-fallback\"><pre>GridSearchCV(cv=5, estimator=Ridge(),\n",
       "             param_grid={&#x27;alpha&#x27;: [1e-09, 1e-06, 0.001, 1, 100, 1000, 10000],\n",
       "                         &#x27;max_iter&#x27;: [400, 500, 600, 700]})</pre><b>In a Jupyter environment, please rerun this cell to show the HTML representation or trust the notebook. <br />On GitHub, the HTML representation is unable to render, please try loading this page with nbviewer.org.</b></div><div class=\"sk-container\" hidden><div class=\"sk-item sk-dashed-wrapped\"><div class=\"sk-label-container\"><div class=\"sk-label sk-toggleable\"><input class=\"sk-toggleable__control sk-hidden--visually\" id=\"sk-estimator-id-13\" type=\"checkbox\" ><label for=\"sk-estimator-id-13\" class=\"sk-toggleable__label sk-toggleable__label-arrow\">GridSearchCV</label><div class=\"sk-toggleable__content\"><pre>GridSearchCV(cv=5, estimator=Ridge(),\n",
       "             param_grid={&#x27;alpha&#x27;: [1e-09, 1e-06, 0.001, 1, 100, 1000, 10000],\n",
       "                         &#x27;max_iter&#x27;: [400, 500, 600, 700]})</pre></div></div></div><div class=\"sk-parallel\"><div class=\"sk-parallel-item\"><div class=\"sk-item\"><div class=\"sk-label-container\"><div class=\"sk-label sk-toggleable\"><input class=\"sk-toggleable__control sk-hidden--visually\" id=\"sk-estimator-id-14\" type=\"checkbox\" ><label for=\"sk-estimator-id-14\" class=\"sk-toggleable__label sk-toggleable__label-arrow\">estimator: Ridge</label><div class=\"sk-toggleable__content\"><pre>Ridge()</pre></div></div></div><div class=\"sk-serial\"><div class=\"sk-item\"><div class=\"sk-estimator sk-toggleable\"><input class=\"sk-toggleable__control sk-hidden--visually\" id=\"sk-estimator-id-15\" type=\"checkbox\" ><label for=\"sk-estimator-id-15\" class=\"sk-toggleable__label sk-toggleable__label-arrow\">Ridge</label><div class=\"sk-toggleable__content\"><pre>Ridge()</pre></div></div></div></div></div></div></div></div></div></div>"
      ],
      "text/plain": [
       "GridSearchCV(cv=5, estimator=Ridge(),\n",
       "             param_grid={'alpha': [1e-09, 1e-06, 0.001, 1, 100, 1000, 10000],\n",
       "                         'max_iter': [400, 500, 600, 700]})"
      ]
     },
     "execution_count": 55,
     "metadata": {},
     "output_type": "execute_result"
    }
   ],
   "source": [
    "params={\n",
    "    \"alpha\":[1e-9,1e-6,1e-3,1,100,1000,10000],\n",
    "    \"max_iter\":[400,500,600,700]#maximum number of iterations to run\n",
    "}\n",
    "g_s_cv=GridSearchCV(ridge_model,params,cv=5)\n",
    "g_s_cv.fit(fx_train,y_train)"
   ]
  },
  {
   "cell_type": "code",
   "execution_count": 56,
   "id": "32b4f63b",
   "metadata": {},
   "outputs": [
    {
     "name": "stdout",
     "output_type": "stream",
     "text": [
      "Best parameters found:  {'alpha': 1, 'max_iter': 400}\n",
      "Best score:  0.8284162281600445\n"
     ]
    }
   ],
   "source": [
    "print(\"Best parameters found: \", g_s_cv.best_params_)\n",
    "print(\"Best score: \", g_s_cv.best_score_)"
   ]
  },
  {
   "cell_type": "code",
   "execution_count": 59,
   "id": "a13b5a4d",
   "metadata": {},
   "outputs": [],
   "source": [
    "ridge1_model=Ridge(**g_s_cv.best_params_)"
   ]
  },
  {
   "cell_type": "code",
   "execution_count": 60,
   "id": "5fafb09d",
   "metadata": {},
   "outputs": [
    {
     "name": "stdout",
     "output_type": "stream",
     "text": [
      "Scores of Ridge(alpha=1, max_iter=400) \n",
      "\n",
      "Training Score:0.91\n",
      "Testing Score:0.91\n"
     ]
    }
   ],
   "source": [
    "fit_model_getScores(ridge1_model,fx_train,y_train,fx_test,y_test)"
   ]
  },
  {
   "cell_type": "code",
   "execution_count": 61,
   "id": "382051a5",
   "metadata": {},
   "outputs": [
    {
     "name": "stdout",
     "output_type": "stream",
     "text": [
      "The Metrics for Ridge(alpha=1, max_iter=400):\n",
      "----------------------------\n",
      "Mean Squared Error:4494927.44\n",
      "Root Mean Squared Error:2120.12\n",
      "Mean Absolute Error:1624.71\n",
      "r2_score:0.91\n"
     ]
    }
   ],
   "source": [
    "get_metrics(ridge1_model,fx_test,y_test)"
   ]
  },
  {
   "cell_type": "code",
   "execution_count": 62,
   "id": "e20982e8",
   "metadata": {},
   "outputs": [],
   "source": [
    "#Lasso"
   ]
  },
  {
   "cell_type": "code",
   "execution_count": 63,
   "id": "e14f44f7",
   "metadata": {},
   "outputs": [],
   "source": [
    "lasso_model=Lasso()"
   ]
  },
  {
   "cell_type": "code",
   "execution_count": 64,
   "id": "0cfc1b93",
   "metadata": {},
   "outputs": [
    {
     "data": {
      "text/html": [
       "<style>#sk-container-id-3 {color: black;background-color: white;}#sk-container-id-3 pre{padding: 0;}#sk-container-id-3 div.sk-toggleable {background-color: white;}#sk-container-id-3 label.sk-toggleable__label {cursor: pointer;display: block;width: 100%;margin-bottom: 0;padding: 0.3em;box-sizing: border-box;text-align: center;}#sk-container-id-3 label.sk-toggleable__label-arrow:before {content: \"▸\";float: left;margin-right: 0.25em;color: #696969;}#sk-container-id-3 label.sk-toggleable__label-arrow:hover:before {color: black;}#sk-container-id-3 div.sk-estimator:hover label.sk-toggleable__label-arrow:before {color: black;}#sk-container-id-3 div.sk-toggleable__content {max-height: 0;max-width: 0;overflow: hidden;text-align: left;background-color: #f0f8ff;}#sk-container-id-3 div.sk-toggleable__content pre {margin: 0.2em;color: black;border-radius: 0.25em;background-color: #f0f8ff;}#sk-container-id-3 input.sk-toggleable__control:checked~div.sk-toggleable__content {max-height: 200px;max-width: 100%;overflow: auto;}#sk-container-id-3 input.sk-toggleable__control:checked~label.sk-toggleable__label-arrow:before {content: \"▾\";}#sk-container-id-3 div.sk-estimator input.sk-toggleable__control:checked~label.sk-toggleable__label {background-color: #d4ebff;}#sk-container-id-3 div.sk-label input.sk-toggleable__control:checked~label.sk-toggleable__label {background-color: #d4ebff;}#sk-container-id-3 input.sk-hidden--visually {border: 0;clip: rect(1px 1px 1px 1px);clip: rect(1px, 1px, 1px, 1px);height: 1px;margin: -1px;overflow: hidden;padding: 0;position: absolute;width: 1px;}#sk-container-id-3 div.sk-estimator {font-family: monospace;background-color: #f0f8ff;border: 1px dotted black;border-radius: 0.25em;box-sizing: border-box;margin-bottom: 0.5em;}#sk-container-id-3 div.sk-estimator:hover {background-color: #d4ebff;}#sk-container-id-3 div.sk-parallel-item::after {content: \"\";width: 100%;border-bottom: 1px solid gray;flex-grow: 1;}#sk-container-id-3 div.sk-label:hover label.sk-toggleable__label {background-color: #d4ebff;}#sk-container-id-3 div.sk-serial::before {content: \"\";position: absolute;border-left: 1px solid gray;box-sizing: border-box;top: 0;bottom: 0;left: 50%;z-index: 0;}#sk-container-id-3 div.sk-serial {display: flex;flex-direction: column;align-items: center;background-color: white;padding-right: 0.2em;padding-left: 0.2em;position: relative;}#sk-container-id-3 div.sk-item {position: relative;z-index: 1;}#sk-container-id-3 div.sk-parallel {display: flex;align-items: stretch;justify-content: center;background-color: white;position: relative;}#sk-container-id-3 div.sk-item::before, #sk-container-id-3 div.sk-parallel-item::before {content: \"\";position: absolute;border-left: 1px solid gray;box-sizing: border-box;top: 0;bottom: 0;left: 50%;z-index: -1;}#sk-container-id-3 div.sk-parallel-item {display: flex;flex-direction: column;z-index: 1;position: relative;background-color: white;}#sk-container-id-3 div.sk-parallel-item:first-child::after {align-self: flex-end;width: 50%;}#sk-container-id-3 div.sk-parallel-item:last-child::after {align-self: flex-start;width: 50%;}#sk-container-id-3 div.sk-parallel-item:only-child::after {width: 0;}#sk-container-id-3 div.sk-dashed-wrapped {border: 1px dashed gray;margin: 0 0.4em 0.5em 0.4em;box-sizing: border-box;padding-bottom: 0.4em;background-color: white;}#sk-container-id-3 div.sk-label label {font-family: monospace;font-weight: bold;display: inline-block;line-height: 1.2em;}#sk-container-id-3 div.sk-label-container {text-align: center;}#sk-container-id-3 div.sk-container {/* jupyter's `normalize.less` sets `[hidden] { display: none; }` but bootstrap.min.css set `[hidden] { display: none !important; }` so we also need the `!important` here to be able to override the default hidden behavior on the sphinx rendered scikit-learn.org. See: https://github.com/scikit-learn/scikit-learn/issues/21755 */display: inline-block !important;position: relative;}#sk-container-id-3 div.sk-text-repr-fallback {display: none;}</style><div id=\"sk-container-id-3\" class=\"sk-top-container\"><div class=\"sk-text-repr-fallback\"><pre>GridSearchCV(cv=5, estimator=Lasso(),\n",
       "             param_grid={&#x27;alpha&#x27;: [1e-09, 1e-06, 0.001, 1, 100, 1000, 10000],\n",
       "                         &#x27;max_iter&#x27;: [400, 500, 600, 700]})</pre><b>In a Jupyter environment, please rerun this cell to show the HTML representation or trust the notebook. <br />On GitHub, the HTML representation is unable to render, please try loading this page with nbviewer.org.</b></div><div class=\"sk-container\" hidden><div class=\"sk-item sk-dashed-wrapped\"><div class=\"sk-label-container\"><div class=\"sk-label sk-toggleable\"><input class=\"sk-toggleable__control sk-hidden--visually\" id=\"sk-estimator-id-16\" type=\"checkbox\" ><label for=\"sk-estimator-id-16\" class=\"sk-toggleable__label sk-toggleable__label-arrow\">GridSearchCV</label><div class=\"sk-toggleable__content\"><pre>GridSearchCV(cv=5, estimator=Lasso(),\n",
       "             param_grid={&#x27;alpha&#x27;: [1e-09, 1e-06, 0.001, 1, 100, 1000, 10000],\n",
       "                         &#x27;max_iter&#x27;: [400, 500, 600, 700]})</pre></div></div></div><div class=\"sk-parallel\"><div class=\"sk-parallel-item\"><div class=\"sk-item\"><div class=\"sk-label-container\"><div class=\"sk-label sk-toggleable\"><input class=\"sk-toggleable__control sk-hidden--visually\" id=\"sk-estimator-id-17\" type=\"checkbox\" ><label for=\"sk-estimator-id-17\" class=\"sk-toggleable__label sk-toggleable__label-arrow\">estimator: Lasso</label><div class=\"sk-toggleable__content\"><pre>Lasso()</pre></div></div></div><div class=\"sk-serial\"><div class=\"sk-item\"><div class=\"sk-estimator sk-toggleable\"><input class=\"sk-toggleable__control sk-hidden--visually\" id=\"sk-estimator-id-18\" type=\"checkbox\" ><label for=\"sk-estimator-id-18\" class=\"sk-toggleable__label sk-toggleable__label-arrow\">Lasso</label><div class=\"sk-toggleable__content\"><pre>Lasso()</pre></div></div></div></div></div></div></div></div></div></div>"
      ],
      "text/plain": [
       "GridSearchCV(cv=5, estimator=Lasso(),\n",
       "             param_grid={'alpha': [1e-09, 1e-06, 0.001, 1, 100, 1000, 10000],\n",
       "                         'max_iter': [400, 500, 600, 700]})"
      ]
     },
     "execution_count": 64,
     "metadata": {},
     "output_type": "execute_result"
    }
   ],
   "source": [
    "params={\n",
    "    \"alpha\":[1e-9,1e-6,1e-3,1,100,1000,10000],\n",
    "    \"max_iter\":[400,500,600,700]#maximum number of iterations to run\n",
    "}\n",
    "g_s_cv_l=GridSearchCV(lasso_model,params,cv=5)\n",
    "g_s_cv_l.fit(fx_train,y_train)"
   ]
  },
  {
   "cell_type": "code",
   "execution_count": 65,
   "id": "e960f526",
   "metadata": {},
   "outputs": [
    {
     "name": "stdout",
     "output_type": "stream",
     "text": [
      "Best parameters found:  {'alpha': 1, 'max_iter': 400}\n",
      "Best score:  0.8295543202027641\n"
     ]
    }
   ],
   "source": [
    "print(\"Best parameters found: \", g_s_cv_l.best_params_)\n",
    "print(\"Best score: \", g_s_cv_l.best_score_)"
   ]
  },
  {
   "cell_type": "code",
   "execution_count": 66,
   "id": "f341e1ec",
   "metadata": {},
   "outputs": [],
   "source": [
    "ridge1_model=Ridge(**g_s_cv_l.best_params_)"
   ]
  },
  {
   "cell_type": "code",
   "execution_count": 67,
   "id": "7effe357",
   "metadata": {},
   "outputs": [
    {
     "name": "stdout",
     "output_type": "stream",
     "text": [
      "Scores of Lasso() \n",
      "\n",
      "Training Score:0.92\n",
      "Testing Score:0.91\n"
     ]
    }
   ],
   "source": [
    "fit_model_getScores(lasso_model,fx_train,y_train,fx_test,y_test)"
   ]
  },
  {
   "cell_type": "code",
   "execution_count": 68,
   "id": "520d1728",
   "metadata": {},
   "outputs": [
    {
     "name": "stdout",
     "output_type": "stream",
     "text": [
      "The Metrics for Lasso():\n",
      "----------------------------\n",
      "Mean Squared Error:4544820.20\n",
      "Root Mean Squared Error:2131.86\n",
      "Mean Absolute Error:1679.30\n",
      "r2_score:0.91\n"
     ]
    }
   ],
   "source": [
    "get_metrics(lasso_model,fx_test,y_test)"
   ]
  },
  {
   "cell_type": "code",
   "execution_count": null,
   "id": "8699712f",
   "metadata": {},
   "outputs": [],
   "source": []
  }
 ],
 "metadata": {
  "kernelspec": {
   "display_name": "Python 3 (ipykernel)",
   "language": "python",
   "name": "python3"
  },
  "language_info": {
   "codemirror_mode": {
    "name": "ipython",
    "version": 3
   },
   "file_extension": ".py",
   "mimetype": "text/x-python",
   "name": "python",
   "nbconvert_exporter": "python",
   "pygments_lexer": "ipython3",
   "version": "3.10.9"
  }
 },
 "nbformat": 4,
 "nbformat_minor": 5
}
